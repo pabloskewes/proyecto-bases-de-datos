{
 "cells": [
  {
   "attachments": {},
   "cell_type": "markdown",
   "metadata": {},
   "source": [
    "# Exploración inicial"
   ]
  },
  {
   "cell_type": "code",
   "execution_count": 15,
   "metadata": {},
   "outputs": [],
   "source": [
    "from pathlib import Path\n",
    "import pandas as pd\n",
    "import openpyxl\n",
    "from enum import StrEnum\n",
    "from tqdm import tqdm"
   ]
  },
  {
   "attachments": {},
   "cell_type": "markdown",
   "metadata": {},
   "source": [
    "### Cargar datos y comprobar su estructura"
   ]
  },
  {
   "cell_type": "code",
   "execution_count": 6,
   "metadata": {},
   "outputs": [],
   "source": [
    "DATA_DIR = Path('data').resolve()\n",
    "\n",
    "ENERO_PATH = DATA_DIR / 'Enero-2021.xlsx'\n",
    "FEBRERO_PATH = DATA_DIR / 'Febrero-2021.xlsx'\n",
    "MARZO_PATH = DATA_DIR / 'Marzo-2021.xlsx'\n",
    "ABRIL_PATH = DATA_DIR / 'Abril-2021.xlsx'"
   ]
  },
  {
   "cell_type": "code",
   "execution_count": 5,
   "metadata": {},
   "outputs": [],
   "source": [
    "def get_sheet_names(path: str) -> list[str]:\n",
    "    \"\"\"Get the sheet names from an Excel file.\"\"\"\n",
    "    wb = openpyxl.load_workbook(path)\n",
    "    return wb.sheetnames"
   ]
  },
  {
   "cell_type": "code",
   "execution_count": 7,
   "metadata": {},
   "outputs": [
    {
     "name": "stdout",
     "output_type": "stream",
     "text": [
      "['Servicios', 'RepLegales', 'Vehiculos', 'O-D Recorridos', 'Trazados']\n",
      "['Servicio', 'RepLegales', 'Vehículo', 'O-D Recorrido', 'Trazado']\n",
      "['Servicio', 'RepLegales', 'Vehiculos vig', 'O-D Recorrido', 'Trazados']\n",
      "['Servicios', 'Replegal', 'Vehículos', 'O-D Recorridos', 'Trazados']\n"
     ]
    }
   ],
   "source": [
    "for path in [ENERO_PATH, FEBRERO_PATH, MARZO_PATH, ABRIL_PATH]:\n",
    "    print(get_sheet_names(path))"
   ]
  },
  {
   "attachments": {},
   "cell_type": "markdown",
   "metadata": {},
   "source": [
    "Podemos ver que para distintos meses, los archivos de excel tienen nombres de pestañas distintos pero que se refieren a los mismo, por lo que podemos hacer una función para arreglarlo"
   ]
  },
  {
   "cell_type": "code",
   "execution_count": 9,
   "metadata": {},
   "outputs": [],
   "source": [
    "def normalize_sheet_names(path: str, sheet_names: list[str]) -> None:\n",
    "    \"\"\"\n",
    "    Normalize the sheet names in an Excel file.\n",
    "    Args:\n",
    "        path: The path to the Excel file.\n",
    "        sheet_names: The list of sheet names (in order) to rename the sheets to.\n",
    "    Returns:\n",
    "        None\n",
    "    \"\"\"\n",
    "    wb = openpyxl.load_workbook(path)\n",
    "    for sheet_name, new_sheet_name in zip(wb.sheetnames, sheet_names):\n",
    "        wb[sheet_name].title = new_sheet_name\n",
    "    wb.save(path)"
   ]
  },
  {
   "cell_type": "code",
   "execution_count": 11,
   "metadata": {},
   "outputs": [],
   "source": [
    "class TableName(StrEnum):\n",
    "    SERVICIOS = 'Servicios'\n",
    "    REP_LEGALES = 'RepLegales'\n",
    "    VEHICULOS = 'Vehiculos'\n",
    "    O_D_RECORRIDOS = 'O-D Recorridos'\n",
    "    TRAZADOS = 'Trazados'\n",
    "    \n",
    "    @classmethod\n",
    "    def get_sheet_names(cls) -> list[str]:\n",
    "        return [table_name.value for table_name in cls]"
   ]
  },
  {
   "cell_type": "code",
   "execution_count": 12,
   "metadata": {},
   "outputs": [
    {
     "data": {
      "text/plain": [
       "['Servicios', 'RepLegales', 'Vehiculos', 'O-D Recorridos', 'Trazados']"
      ]
     },
     "execution_count": 12,
     "metadata": {},
     "output_type": "execute_result"
    }
   ],
   "source": [
    "TableName.get_sheet_names()"
   ]
  },
  {
   "cell_type": "code",
   "execution_count": null,
   "metadata": {},
   "outputs": [],
   "source": [
    "normalized_names = TableName.get_sheet_names()\n",
    "\n",
    "for path in [ENERO_PATH, FEBRERO_PATH, MARZO_PATH, ABRIL_PATH]:\n",
    "    normalize_sheet_names(path, normalized_names)"
   ]
  },
  {
   "attachments": {},
   "cell_type": "markdown",
   "metadata": {},
   "source": [
    "En este punto ya tenemos los datos de los archivos de excel con nombres de pestañas normalizados, por lo que podemos empezar a trabajar con ellos"
   ]
  },
  {
   "cell_type": "code",
   "execution_count": 17,
   "metadata": {},
   "outputs": [],
   "source": [
    "def get_data(path: str, sheet_name: str) -> pd.DataFrame:\n",
    "    \"\"\"Get the data from an Excel file.\"\"\"\n",
    "    return pd.read_excel(path, sheet_name=sheet_name)\n",
    "\n",
    "data = {\n",
    "    'Enero-2021': {},\n",
    "    'Febrero-2021': {},\n",
    "    'Marzo-2021': {},\n",
    "    'Abril-2021': {},\n",
    "}"
   ]
  },
  {
   "attachments": {},
   "cell_type": "markdown",
   "metadata": {},
   "source": [
    "Procedemos a cargar los datos"
   ]
  },
  {
   "cell_type": "code",
   "execution_count": 18,
   "metadata": {},
   "outputs": [
    {
     "name": "stderr",
     "output_type": "stream",
     "text": [
      "Enero-2021: 100%|██████████| 5/5 [01:45<00:00, 21.09s/it]\n",
      "Febrero-2021: 100%|██████████| 5/5 [01:38<00:00, 19.70s/it]\n",
      "Marzo-2021: 100%|██████████| 5/5 [01:33<00:00, 18.65s/it]\n",
      "Abril-2021: 100%|██████████| 5/5 [01:33<00:00, 18.74s/it]\n"
     ]
    }
   ],
   "source": [
    "\n",
    "for path in [ENERO_PATH, FEBRERO_PATH, MARZO_PATH, ABRIL_PATH]:\n",
    "    for sheet_name in tqdm(TableName.get_sheet_names(), desc=path.stem):\n",
    "        data[path.stem][sheet_name] = get_data(path, sheet_name)"
   ]
  },
  {
   "attachments": {},
   "cell_type": "markdown",
   "metadata": {},
   "source": [
    "## Análisis exploratorio"
   ]
  },
  {
   "attachments": {},
   "cell_type": "markdown",
   "metadata": {},
   "source": [
    "### Número de tuplas y homogeteneidad de los datos por meses"
   ]
  },
  {
   "attachments": {},
   "cell_type": "markdown",
   "metadata": {},
   "source": [
    "Veamos cuántas tuplas hay por tabla"
   ]
  },
  {
   "cell_type": "code",
   "execution_count": 22,
   "metadata": {},
   "outputs": [],
   "source": [
    "number_of_lines = {}\n",
    "for month, tables in data.items():\n",
    "    number_of_lines[month] = {}\n",
    "    for table_name, df in tables.items():\n",
    "        number_of_lines[month][table_name] = df.shape[0]\n",
    "        \n",
    "number_of_lines = pd.DataFrame(number_of_lines).T"
   ]
  },
  {
   "cell_type": "code",
   "execution_count": 23,
   "metadata": {},
   "outputs": [
    {
     "data": {
      "text/html": [
       "<div>\n",
       "<style scoped>\n",
       "    .dataframe tbody tr th:only-of-type {\n",
       "        vertical-align: middle;\n",
       "    }\n",
       "\n",
       "    .dataframe tbody tr th {\n",
       "        vertical-align: top;\n",
       "    }\n",
       "\n",
       "    .dataframe thead th {\n",
       "        text-align: right;\n",
       "    }\n",
       "</style>\n",
       "<table border=\"1\" class=\"dataframe\">\n",
       "  <thead>\n",
       "    <tr style=\"text-align: right;\">\n",
       "      <th></th>\n",
       "      <th>Servicios</th>\n",
       "      <th>RepLegales</th>\n",
       "      <th>Vehiculos</th>\n",
       "      <th>O-D Recorridos</th>\n",
       "      <th>Trazados</th>\n",
       "    </tr>\n",
       "  </thead>\n",
       "  <tbody>\n",
       "    <tr>\n",
       "      <th>Enero-2021</th>\n",
       "      <td>41508</td>\n",
       "      <td>4499</td>\n",
       "      <td>136354</td>\n",
       "      <td>11138</td>\n",
       "      <td>324659</td>\n",
       "    </tr>\n",
       "    <tr>\n",
       "      <th>Febrero-2021</th>\n",
       "      <td>41495</td>\n",
       "      <td>4487</td>\n",
       "      <td>136143</td>\n",
       "      <td>11143</td>\n",
       "      <td>324581</td>\n",
       "    </tr>\n",
       "    <tr>\n",
       "      <th>Marzo-2021</th>\n",
       "      <td>41551</td>\n",
       "      <td>4495</td>\n",
       "      <td>136069</td>\n",
       "      <td>11189</td>\n",
       "      <td>325220</td>\n",
       "    </tr>\n",
       "    <tr>\n",
       "      <th>Abril-2021</th>\n",
       "      <td>41525</td>\n",
       "      <td>4489</td>\n",
       "      <td>136031</td>\n",
       "      <td>11209</td>\n",
       "      <td>326154</td>\n",
       "    </tr>\n",
       "  </tbody>\n",
       "</table>\n",
       "</div>"
      ],
      "text/plain": [
       "              Servicios  RepLegales  Vehiculos  O-D Recorridos  Trazados\n",
       "Enero-2021        41508        4499     136354           11138    324659\n",
       "Febrero-2021      41495        4487     136143           11143    324581\n",
       "Marzo-2021        41551        4495     136069           11189    325220\n",
       "Abril-2021        41525        4489     136031           11209    326154"
      ]
     },
     "execution_count": 23,
     "metadata": {},
     "output_type": "execute_result"
    }
   ],
   "source": [
    "number_of_lines"
   ]
  },
  {
   "cell_type": "code",
   "execution_count": 24,
   "metadata": {},
   "outputs": [
    {
     "data": {
      "text/plain": [
       "Enero-2021      518158\n",
       "Febrero-2021    517849\n",
       "Marzo-2021      518524\n",
       "Abril-2021      519408\n",
       "dtype: int64"
      ]
     },
     "execution_count": 24,
     "metadata": {},
     "output_type": "execute_result"
    }
   ],
   "source": [
    "number_of_lines.sum(axis=1)"
   ]
  },
  {
   "attachments": {},
   "cell_type": "markdown",
   "metadata": {},
   "source": [
    "Como podemos ver, cada tabla archivo de excel (por mes) tiene aproximadamente una suma de 500.000 tuplas, por lo que, dado que se indicó que el número de tuplas total debe estar entre 100.000 y 1.000.000, podremos tomar como máximo 2 meses de datos. Estos se pasan por un poquito de un millón de tuplas, pero existe la posibilidad de que tras la limpieza de datos tengamos que borrar algunos por lo que preferimos tomar un margen de seguridad. Si por el contrario, tras la normalización de datos el número de tuplas aumenta demasiado, siempre podremos botar un mes, lo cual debería bastar para cumplir con el rango de tuplas."
   ]
  },
  {
   "cell_type": "code",
   "execution_count": 38,
   "metadata": {},
   "outputs": [],
   "source": [
    "column_names = {}\n",
    "for month, tables in data.items():\n",
    "    column_names[month] = {}\n",
    "    for table_name, df in tables.items():\n",
    "        column_names[month][table_name] = set(df.columns)\n"
   ]
  },
  {
   "cell_type": "code",
   "execution_count": 54,
   "metadata": {},
   "outputs": [
    {
     "name": "stdout",
     "output_type": "stream",
     "text": [
      "Número de columnas por tabla y mes\n"
     ]
    },
    {
     "data": {
      "text/html": [
       "<div>\n",
       "<style scoped>\n",
       "    .dataframe tbody tr th:only-of-type {\n",
       "        vertical-align: middle;\n",
       "    }\n",
       "\n",
       "    .dataframe tbody tr th {\n",
       "        vertical-align: top;\n",
       "    }\n",
       "\n",
       "    .dataframe thead th {\n",
       "        text-align: right;\n",
       "    }\n",
       "</style>\n",
       "<table border=\"1\" class=\"dataframe\">\n",
       "  <thead>\n",
       "    <tr style=\"text-align: right;\">\n",
       "      <th></th>\n",
       "      <th>Servicios</th>\n",
       "      <th>RepLegales</th>\n",
       "      <th>Vehiculos</th>\n",
       "      <th>O-D Recorridos</th>\n",
       "      <th>Trazados</th>\n",
       "    </tr>\n",
       "  </thead>\n",
       "  <tbody>\n",
       "    <tr>\n",
       "      <th>Enero-2021</th>\n",
       "      <td>16</td>\n",
       "      <td>4</td>\n",
       "      <td>9</td>\n",
       "      <td>12</td>\n",
       "      <td>10</td>\n",
       "    </tr>\n",
       "    <tr>\n",
       "      <th>Febrero-2021</th>\n",
       "      <td>15</td>\n",
       "      <td>4</td>\n",
       "      <td>9</td>\n",
       "      <td>11</td>\n",
       "      <td>10</td>\n",
       "    </tr>\n",
       "    <tr>\n",
       "      <th>Marzo-2021</th>\n",
       "      <td>15</td>\n",
       "      <td>4</td>\n",
       "      <td>9</td>\n",
       "      <td>11</td>\n",
       "      <td>9</td>\n",
       "    </tr>\n",
       "    <tr>\n",
       "      <th>Abril-2021</th>\n",
       "      <td>15</td>\n",
       "      <td>4</td>\n",
       "      <td>9</td>\n",
       "      <td>11</td>\n",
       "      <td>9</td>\n",
       "    </tr>\n",
       "  </tbody>\n",
       "</table>\n",
       "</div>"
      ],
      "text/plain": [
       "              Servicios  RepLegales  Vehiculos  O-D Recorridos  Trazados\n",
       "Enero-2021           16           4          9              12        10\n",
       "Febrero-2021         15           4          9              11        10\n",
       "Marzo-2021           15           4          9              11         9\n",
       "Abril-2021           15           4          9              11         9"
      ]
     },
     "execution_count": 54,
     "metadata": {},
     "output_type": "execute_result"
    }
   ],
   "source": [
    "column_numbers = pd.DataFrame(column_names).T\n",
    "column_numbers = column_numbers.applymap(lambda x: len(x))\n",
    "print('Número de columnas por tabla y mes')\n",
    "column_numbers"
   ]
  },
  {
   "attachments": {},
   "cell_type": "markdown",
   "metadata": {},
   "source": [
    "Podemos ver que el número de columnas por tabla por mes no es homogéneo, excepto para marzo y abril, es por esto que por simplicidad tomaremos estos dos meses."
   ]
  },
  {
   "cell_type": "code",
   "execution_count": 55,
   "metadata": {},
   "outputs": [
    {
     "name": "stdout",
     "output_type": "stream",
     "text": [
      "Enero-2021: Servicios\n",
      "Index(['REGION', 'FOLIO', 'CONCA', 'TIPOSERVICIO', 'NRO_LINEA',\n",
      "       'FLOTA VIGENTE', 'RUT_RESPONSABLE', 'NOMBRE_RESPONSABLE',\n",
      "       'NOMBRE_FANTASIA', 'TIPO_PERSONA', 'COMUNA', 'REGION.1', 'DOMICILIO',\n",
      "       'TELEFONO', 'FAX', 'EMAIL'],\n",
      "      dtype='object')\n",
      "\n",
      "Enero-2021: RepLegales\n",
      "Index(['REGION', 'FOLIO', 'TIPOSERVICIO', 'NOMBRE_REPLEGAL'], dtype='object')\n",
      "\n",
      "Enero-2021: Vehiculos\n",
      "Index(['REGION', 'FOLIO', 'TIPOSERVICIO', 'PPU', 'FECHA_INGRESO_RNT', 'MARCA',\n",
      "       'MODELO', 'ANOFABRICACION', 'CAPACIDAD'],\n",
      "      dtype='object')\n",
      "\n",
      "Enero-2021: O-D Recorridos\n",
      "Index(['REGION', 'FOLIO', 'TIPOSERVICIO', 'NOMBRE_RECORRIDO', 'TIPO_TRAZADO',\n",
      "       'LONGITUD_TRAZADO', 'NOMBRE_ORIGEN', 'COMUNA_ORIGEN',\n",
      "       'DOMICILIO_ORIGEN', 'NOMBRE_DESTINO', 'COMUNA_DESTINO',\n",
      "       'DOMICILIO_DESTINO'],\n",
      "      dtype='object')\n",
      "\n",
      "Enero-2021: Trazados\n",
      "Index(['REGION', 'FOLIO', 'TIPOSERVICIO', 'NOMBRE_RECORRIDO', 'TIPO_TRAZADO',\n",
      "       'ORDEN', 'LINEA', 'SENTIDO', 'CALLE', 'COMUNA'],\n",
      "      dtype='object')\n",
      "\n",
      "Febrero-2021: Servicios\n",
      "Index(['REGION', 'FOLIO', 'TIPO_SERVICIO', 'FLOTA_VIGENTE', 'NRO_LINEA',\n",
      "       'RUT_RESPONSABLE', 'NOMBRE_RESPONSABLE', 'TIPO_PERSONA',\n",
      "       'NOMBRE_FANTASIA', 'DOMICILIO', 'COMUNA', 'REGION.1', 'TELEFONO', 'FAX',\n",
      "       'EMAIL'],\n",
      "      dtype='object')\n",
      "\n",
      "Febrero-2021: RepLegales\n",
      "Index(['REGION', 'FOLIO', 'TIPO_SERVICIO', 'NOMBRE_REPLEGAL'], dtype='object')\n",
      "\n",
      "Febrero-2021: Vehiculos\n",
      "Index(['REGION', 'FOLIO', 'TIPO_SERVICIO', 'PPU', 'FECHA_INGRESO_RNT', 'MARCA',\n",
      "       'MODELO', 'ANOFABRICACION', 'CAPACIDAD'],\n",
      "      dtype='object')\n",
      "\n",
      "Febrero-2021: O-D Recorridos\n",
      "Index(['REGION', 'FOLIO', 'TIPO_SERVICIO', 'NOMBRE_RECORRIDO', 'TIPO_TRAZADO',\n",
      "       'NOMBRE_ORIGEN', 'COMUNA_ORIGEN', 'DOMICILIO_ORIGEN', 'NOMBRE_DESTINO',\n",
      "       'COMUNA_DESTINO', 'DOMICILIO_DESTINO'],\n",
      "      dtype='object')\n",
      "\n",
      "Febrero-2021: Trazados\n",
      "Index(['REGION', 'FOLIO', 'TIPO_SERVICIO', 'NOMBRE_RECORRIDO', 'TIPO_TRAZADO',\n",
      "       'ORDEN', 'SENTIDO', 'CALLE', 'COMUNA', 'ESTADO_RECORRIDO'],\n",
      "      dtype='object')\n",
      "\n",
      "Marzo-2021: Servicios\n",
      "Index(['REGION', 'FOLIO', 'TIPO_SERVICIO', 'FLOTA  VIGENTE', 'NRO_LINEA',\n",
      "       'RUT_RESPONSABLE', 'NOMBRE_RESPONSABLE', 'NOMBRE_FANTASIA',\n",
      "       'TIPO_PERSONA', 'COMUNA', 'REGION.1', 'DOMICILIO', 'TELEFONO', 'FAX',\n",
      "       'EMAIL'],\n",
      "      dtype='object')\n",
      "\n",
      "Marzo-2021: RepLegales\n",
      "Index(['REGION', 'FOLIO', 'TIPO_SERVICIO', 'NOMBRE_REPLEGAL'], dtype='object')\n",
      "\n",
      "Marzo-2021: Vehiculos\n",
      "Index(['REGION', 'FOLIO', 'TIPO_SERVICIO', 'PPU', 'FECHA_INGRESO_RNT', 'MARCA',\n",
      "       'MODELO', 'ANO_FABRICACION', 'CAPACIDAD'],\n",
      "      dtype='object')\n",
      "\n",
      "Marzo-2021: O-D Recorridos\n",
      "Index(['FOLIO', 'REGION', 'TIPO_SERVICIO', 'NOMBRE_RECORRIDO', 'TIPO_TRAZADO',\n",
      "       'NOMBRE_ORIGEN', 'COMUNA_ORIGEN', 'DOMICILIO_ORIGEN', 'NOMBRE_DESTINO',\n",
      "       'COMUNA_DESTINO', 'DOMICILIO_DESTINO'],\n",
      "      dtype='object')\n",
      "\n",
      "Marzo-2021: Trazados\n",
      "Index(['REGION', 'FOLIO', 'TIPO_SERVICIO', 'NOMBRE_RECORRIDO', 'TIPO_TRAZADO',\n",
      "       'ORDEN', 'SENTIDO', 'CALLE', 'COMUNA'],\n",
      "      dtype='object')\n",
      "\n",
      "Abril-2021: Servicios\n",
      "Index(['REGION', 'FOLIO', 'TIPO_SERVICIO', 'FLOTA VIGENTE', 'NRO_LINEA',\n",
      "       'RUT_RESPONSABLE', 'NOMBRE_RESPONSABLE', 'NOMBRE_FANTASIA',\n",
      "       'TIPO_PERSONA', 'DOMICILIO', 'COMUNA', 'REGION.1', 'TELEFONO', 'FAX',\n",
      "       'EMAIL'],\n",
      "      dtype='object')\n",
      "\n",
      "Abril-2021: RepLegales\n",
      "Index(['REGION', 'FOLIO', 'TIPO_SERVICIO', 'NOMBRE_REPLEGAL'], dtype='object')\n",
      "\n",
      "Abril-2021: Vehiculos\n",
      "Index(['REGION', 'FOLIO', 'TIPO_SERVICIO', 'PPU', 'FECHA_INGRESO_RNT', 'MARCA',\n",
      "       'MODELO', 'ANO_FABRICACION', 'CAPACIDAD'],\n",
      "      dtype='object')\n",
      "\n",
      "Abril-2021: O-D Recorridos\n",
      "Index(['REGION', 'FOLIO', 'TIPO_SERVICIO', 'NOMBRE_RECORRIDO', 'TIPO_TRAZADO',\n",
      "       'NOMBRE_ORIGEN', 'COMUNA_ORIGEN', 'DOMICILIO_ORIGEN', 'NOMBRE_DESTINO',\n",
      "       'COMUNA_DESTINO', 'DOMICILIO_DESTINO'],\n",
      "      dtype='object')\n",
      "\n",
      "Abril-2021: Trazados\n",
      "Index(['REGION', 'FOLIO', 'TIPO_SERVICIO', 'NOMBRE_RECORRIDO', 'TIPO_TRAZADO',\n",
      "       'ORDEN', 'SENTIDO', 'CALLE', 'COMUNA'],\n",
      "      dtype='object')\n",
      "\n"
     ]
    }
   ],
   "source": [
    "for month, tables in data.items():\n",
    "    for table_name, df in tables.items():\n",
    "        print(f'{month}: {table_name}')\n",
    "        print(df.columns)\n",
    "        print()"
   ]
  },
  {
   "attachments": {},
   "cell_type": "markdown",
   "metadata": {},
   "source": [
    "Veamos si los nombres de las columnas de Marzo y Abril son los mismos"
   ]
  },
  {
   "cell_type": "code",
   "execution_count": 65,
   "metadata": {},
   "outputs": [
    {
     "data": {
      "text/html": [
       "<div>\n",
       "<style scoped>\n",
       "    .dataframe tbody tr th:only-of-type {\n",
       "        vertical-align: middle;\n",
       "    }\n",
       "\n",
       "    .dataframe tbody tr th {\n",
       "        vertical-align: top;\n",
       "    }\n",
       "\n",
       "    .dataframe thead th {\n",
       "        text-align: right;\n",
       "    }\n",
       "</style>\n",
       "<table border=\"1\" class=\"dataframe\">\n",
       "  <thead>\n",
       "    <tr style=\"text-align: right;\">\n",
       "      <th></th>\n",
       "      <th>Marzo-2021</th>\n",
       "      <th>Abril-2021</th>\n",
       "      <th>union</th>\n",
       "      <th>intersection</th>\n",
       "      <th>difference</th>\n",
       "    </tr>\n",
       "  </thead>\n",
       "  <tbody>\n",
       "    <tr>\n",
       "      <th>Servicios</th>\n",
       "      <td>{TIPO_PERSONA, REGION, TIPO_SERVICIO, EMAIL, D...</td>\n",
       "      <td>{TIPO_PERSONA, REGION, FLOTA VIGENTE, TIPO_SER...</td>\n",
       "      <td>{TIPO_PERSONA, REGION, FLOTA VIGENTE, TIPO_SER...</td>\n",
       "      <td>{TIPO_PERSONA, REGION, NRO_LINEA, TIPO_SERVICI...</td>\n",
       "      <td>{FLOTA  VIGENTE}</td>\n",
       "    </tr>\n",
       "    <tr>\n",
       "      <th>RepLegales</th>\n",
       "      <td>{REGION, TIPO_SERVICIO, FOLIO, NOMBRE_REPLEGAL}</td>\n",
       "      <td>{REGION, TIPO_SERVICIO, FOLIO, NOMBRE_REPLEGAL}</td>\n",
       "      <td>{NOMBRE_REPLEGAL, REGION, TIPO_SERVICIO, FOLIO}</td>\n",
       "      <td>{REGION, TIPO_SERVICIO, FOLIO, NOMBRE_REPLEGAL}</td>\n",
       "      <td>{}</td>\n",
       "    </tr>\n",
       "    <tr>\n",
       "      <th>Vehiculos</th>\n",
       "      <td>{MARCA, REGION, FECHA_INGRESO_RNT, TIPO_SERVIC...</td>\n",
       "      <td>{MARCA, REGION, FECHA_INGRESO_RNT, TIPO_SERVIC...</td>\n",
       "      <td>{MARCA, REGION, FECHA_INGRESO_RNT, TIPO_SERVIC...</td>\n",
       "      <td>{MARCA, REGION, FECHA_INGRESO_RNT, TIPO_SERVIC...</td>\n",
       "      <td>{}</td>\n",
       "    </tr>\n",
       "    <tr>\n",
       "      <th>O-D Recorridos</th>\n",
       "      <td>{COMUNA_ORIGEN, DOMICILIO_DESTINO, NOMBRE_ORIG...</td>\n",
       "      <td>{COMUNA_ORIGEN, DOMICILIO_DESTINO, NOMBRE_ORIG...</td>\n",
       "      <td>{COMUNA_ORIGEN, DOMICILIO_DESTINO, NOMBRE_ORIG...</td>\n",
       "      <td>{COMUNA_ORIGEN, DOMICILIO_DESTINO, NOMBRE_ORIG...</td>\n",
       "      <td>{}</td>\n",
       "    </tr>\n",
       "    <tr>\n",
       "      <th>Trazados</th>\n",
       "      <td>{REGION, TIPO_SERVICIO, ORDEN, NOMBRE_RECORRID...</td>\n",
       "      <td>{REGION, TIPO_SERVICIO, ORDEN, NOMBRE_RECORRID...</td>\n",
       "      <td>{REGION, TIPO_SERVICIO, ORDEN, NOMBRE_RECORRID...</td>\n",
       "      <td>{REGION, TIPO_SERVICIO, ORDEN, NOMBRE_RECORRID...</td>\n",
       "      <td>{}</td>\n",
       "    </tr>\n",
       "  </tbody>\n",
       "</table>\n",
       "</div>"
      ],
      "text/plain": [
       "                                                       Marzo-2021   \n",
       "Servicios       {TIPO_PERSONA, REGION, TIPO_SERVICIO, EMAIL, D...  \\\n",
       "RepLegales        {REGION, TIPO_SERVICIO, FOLIO, NOMBRE_REPLEGAL}   \n",
       "Vehiculos       {MARCA, REGION, FECHA_INGRESO_RNT, TIPO_SERVIC...   \n",
       "O-D Recorridos  {COMUNA_ORIGEN, DOMICILIO_DESTINO, NOMBRE_ORIG...   \n",
       "Trazados        {REGION, TIPO_SERVICIO, ORDEN, NOMBRE_RECORRID...   \n",
       "\n",
       "                                                       Abril-2021   \n",
       "Servicios       {TIPO_PERSONA, REGION, FLOTA VIGENTE, TIPO_SER...  \\\n",
       "RepLegales        {REGION, TIPO_SERVICIO, FOLIO, NOMBRE_REPLEGAL}   \n",
       "Vehiculos       {MARCA, REGION, FECHA_INGRESO_RNT, TIPO_SERVIC...   \n",
       "O-D Recorridos  {COMUNA_ORIGEN, DOMICILIO_DESTINO, NOMBRE_ORIG...   \n",
       "Trazados        {REGION, TIPO_SERVICIO, ORDEN, NOMBRE_RECORRID...   \n",
       "\n",
       "                                                            union   \n",
       "Servicios       {TIPO_PERSONA, REGION, FLOTA VIGENTE, TIPO_SER...  \\\n",
       "RepLegales        {NOMBRE_REPLEGAL, REGION, TIPO_SERVICIO, FOLIO}   \n",
       "Vehiculos       {MARCA, REGION, FECHA_INGRESO_RNT, TIPO_SERVIC...   \n",
       "O-D Recorridos  {COMUNA_ORIGEN, DOMICILIO_DESTINO, NOMBRE_ORIG...   \n",
       "Trazados        {REGION, TIPO_SERVICIO, ORDEN, NOMBRE_RECORRID...   \n",
       "\n",
       "                                                     intersection   \n",
       "Servicios       {TIPO_PERSONA, REGION, NRO_LINEA, TIPO_SERVICI...  \\\n",
       "RepLegales        {REGION, TIPO_SERVICIO, FOLIO, NOMBRE_REPLEGAL}   \n",
       "Vehiculos       {MARCA, REGION, FECHA_INGRESO_RNT, TIPO_SERVIC...   \n",
       "O-D Recorridos  {COMUNA_ORIGEN, DOMICILIO_DESTINO, NOMBRE_ORIG...   \n",
       "Trazados        {REGION, TIPO_SERVICIO, ORDEN, NOMBRE_RECORRID...   \n",
       "\n",
       "                      difference  \n",
       "Servicios       {FLOTA  VIGENTE}  \n",
       "RepLegales                    {}  \n",
       "Vehiculos                     {}  \n",
       "O-D Recorridos                {}  \n",
       "Trazados                      {}  "
      ]
     },
     "execution_count": 65,
     "metadata": {},
     "output_type": "execute_result"
    }
   ],
   "source": [
    "column_names_recent = column_names[['Marzo-2021', 'Abril-2021']].copy()\n",
    "column_names_recent['union'] = column_names_recent.apply(lambda x: x['Marzo-2021'].union(x['Abril-2021']), axis=1)\n",
    "column_names_recent['intersection'] = column_names_recent.apply(lambda x: x['Marzo-2021'].intersection(x['Abril-2021']), axis=1)\n",
    "column_names_recent['difference'] = column_names_recent.apply(lambda x: x['Marzo-2021'].difference(x['Abril-2021']), axis=1)\n",
    "column_names_recent"
   ]
  },
  {
   "cell_type": "code",
   "execution_count": 66,
   "metadata": {},
   "outputs": [
    {
     "data": {
      "text/plain": [
       "Index(['REGION', 'FOLIO', 'TIPO_SERVICIO', 'FLOTA  VIGENTE', 'NRO_LINEA',\n",
       "       'RUT_RESPONSABLE', 'NOMBRE_RESPONSABLE', 'NOMBRE_FANTASIA',\n",
       "       'TIPO_PERSONA', 'COMUNA', 'REGION.1', 'DOMICILIO', 'TELEFONO', 'FAX',\n",
       "       'EMAIL'],\n",
       "      dtype='object')"
      ]
     },
     "metadata": {},
     "output_type": "display_data"
    },
    {
     "data": {
      "text/plain": [
       "Index(['REGION', 'FOLIO', 'TIPO_SERVICIO', 'FLOTA VIGENTE', 'NRO_LINEA',\n",
       "       'RUT_RESPONSABLE', 'NOMBRE_RESPONSABLE', 'NOMBRE_FANTASIA',\n",
       "       'TIPO_PERSONA', 'DOMICILIO', 'COMUNA', 'REGION.1', 'TELEFONO', 'FAX',\n",
       "       'EMAIL'],\n",
       "      dtype='object')"
      ]
     },
     "metadata": {},
     "output_type": "display_data"
    }
   ],
   "source": [
    "display(\n",
    "    data['Marzo-2021']['Servicios'].columns,\n",
    "    data['Abril-2021']['Servicios'].columns,\n",
    ")"
   ]
  },
  {
   "attachments": {},
   "cell_type": "markdown",
   "metadata": {},
   "source": [
    "Podemos ver que sí, excepto para la columna \"FLOTA VIGENTE\" de la tabla \"Servicios\", la cual simplemente se equivocaron y le agregaron un espacio de más. Así que en realidad podemos decir que los nombres de las columnas son los mismos."
   ]
  },
  {
   "attachments": {},
   "cell_type": "markdown",
   "metadata": {},
   "source": [
    "Para lo que sigue, usaremos sólo los datos de abril por simplicidad, asumiendo que no debe ser muy distinto para marzo y sabiendo que en el peor de los casos (si llegaran a haber sorpresas en cuanto a los datos de abril), nos bastaría sólo usar los datos de marzo"
   ]
  },
  {
   "attachments": {},
   "cell_type": "markdown",
   "metadata": {},
   "source": [
    "### Porcentaje de valores nulos"
   ]
  },
  {
   "cell_type": "code",
   "execution_count": 88,
   "metadata": {},
   "outputs": [],
   "source": [
    "MES = 'Abril-2021'\n",
    "\n",
    "servicios = data[MES][TableName.SERVICIOS].copy()\n",
    "rep_legales = data[MES][TableName.REP_LEGALES].copy()\n",
    "vehiculos = data[MES][TableName.VEHICULOS].copy()\n",
    "recorridos = data[MES][TableName.O_D_RECORRIDOS].copy()\n",
    "trazados = data[MES][TableName.TRAZADOS].copy()\n"
   ]
  },
  {
   "cell_type": "code",
   "execution_count": 95,
   "metadata": {},
   "outputs": [
    {
     "data": {
      "text/html": [
       "<div>\n",
       "<style scoped>\n",
       "    .dataframe tbody tr th:only-of-type {\n",
       "        vertical-align: middle;\n",
       "    }\n",
       "\n",
       "    .dataframe tbody tr th {\n",
       "        vertical-align: top;\n",
       "    }\n",
       "\n",
       "    .dataframe thead th {\n",
       "        text-align: right;\n",
       "    }\n",
       "</style>\n",
       "<table border=\"1\" class=\"dataframe\">\n",
       "  <thead>\n",
       "    <tr style=\"text-align: right;\">\n",
       "      <th></th>\n",
       "      <th>REGION</th>\n",
       "      <th>FOLIO</th>\n",
       "      <th>TIPO_SERVICIO</th>\n",
       "      <th>FLOTA VIGENTE</th>\n",
       "      <th>NRO_LINEA</th>\n",
       "      <th>RUT_RESPONSABLE</th>\n",
       "      <th>NOMBRE_RESPONSABLE</th>\n",
       "      <th>NOMBRE_FANTASIA</th>\n",
       "      <th>TIPO_PERSONA</th>\n",
       "      <th>DOMICILIO</th>\n",
       "      <th>COMUNA</th>\n",
       "      <th>REGION.1</th>\n",
       "      <th>TELEFONO</th>\n",
       "      <th>FAX</th>\n",
       "      <th>EMAIL</th>\n",
       "    </tr>\n",
       "  </thead>\n",
       "  <tbody>\n",
       "    <tr>\n",
       "      <th>0</th>\n",
       "      <td>1</td>\n",
       "      <td>10</td>\n",
       "      <td>TAXI COLECTIVO RURAL</td>\n",
       "      <td>1</td>\n",
       "      <td>NaN</td>\n",
       "      <td>NaN</td>\n",
       "      <td>FRANCISCO R. CARLOS MAMANI</td>\n",
       "      <td>NaN</td>\n",
       "      <td>NATURAL</td>\n",
       "      <td>NaN</td>\n",
       "      <td>NaN</td>\n",
       "      <td>NaN</td>\n",
       "      <td>NaN</td>\n",
       "      <td>NaN</td>\n",
       "      <td>NaN</td>\n",
       "    </tr>\n",
       "    <tr>\n",
       "      <th>1</th>\n",
       "      <td>1</td>\n",
       "      <td>4608</td>\n",
       "      <td>TAXI COLECTIVO RURAL</td>\n",
       "      <td>1</td>\n",
       "      <td>NaN</td>\n",
       "      <td>NaN</td>\n",
       "      <td>JORGE ANDRES SOTO LARA</td>\n",
       "      <td>NaN</td>\n",
       "      <td>NATURAL</td>\n",
       "      <td>NaN</td>\n",
       "      <td>NaN</td>\n",
       "      <td>NaN</td>\n",
       "      <td>NaN</td>\n",
       "      <td>NaN</td>\n",
       "      <td>NaN</td>\n",
       "    </tr>\n",
       "    <tr>\n",
       "      <th>2</th>\n",
       "      <td>1</td>\n",
       "      <td>27</td>\n",
       "      <td>TAXI COLECTIVO RURAL</td>\n",
       "      <td>1</td>\n",
       "      <td>NaN</td>\n",
       "      <td>NaN</td>\n",
       "      <td>RENE RUPERTO OYANADEL RIVEROS</td>\n",
       "      <td>NaN</td>\n",
       "      <td>NATURAL</td>\n",
       "      <td>NaN</td>\n",
       "      <td>NaN</td>\n",
       "      <td>NaN</td>\n",
       "      <td>NaN</td>\n",
       "      <td>NaN</td>\n",
       "      <td>NaN</td>\n",
       "    </tr>\n",
       "    <tr>\n",
       "      <th>3</th>\n",
       "      <td>1</td>\n",
       "      <td>67</td>\n",
       "      <td>TAXI COLECTIVO RURAL</td>\n",
       "      <td>1</td>\n",
       "      <td></td>\n",
       "      <td>NaN</td>\n",
       "      <td>JOSE LINO CUELLO YA?EZ</td>\n",
       "      <td>NaN</td>\n",
       "      <td>NATURAL</td>\n",
       "      <td>NaN</td>\n",
       "      <td>NaN</td>\n",
       "      <td>NaN</td>\n",
       "      <td>NaN</td>\n",
       "      <td>NaN</td>\n",
       "      <td>NaN</td>\n",
       "    </tr>\n",
       "    <tr>\n",
       "      <th>4</th>\n",
       "      <td>1</td>\n",
       "      <td>4917</td>\n",
       "      <td>TAXI COLECTIVO RURAL</td>\n",
       "      <td>1</td>\n",
       "      <td>NaN</td>\n",
       "      <td>NaN</td>\n",
       "      <td>LUIS PEDRO BOTTARELLI ARROYO</td>\n",
       "      <td>NaN</td>\n",
       "      <td>NATURAL</td>\n",
       "      <td>NaN</td>\n",
       "      <td>NaN</td>\n",
       "      <td>NaN</td>\n",
       "      <td>NaN</td>\n",
       "      <td>NaN</td>\n",
       "      <td>NaN</td>\n",
       "    </tr>\n",
       "  </tbody>\n",
       "</table>\n",
       "</div>"
      ],
      "text/plain": [
       "   REGION  FOLIO         TIPO_SERVICIO  FLOTA VIGENTE NRO_LINEA   \n",
       "0       1     10  TAXI COLECTIVO RURAL              1       NaN  \\\n",
       "1       1   4608  TAXI COLECTIVO RURAL              1       NaN   \n",
       "2       1     27  TAXI COLECTIVO RURAL              1       NaN   \n",
       "3       1     67  TAXI COLECTIVO RURAL              1             \n",
       "4       1   4917  TAXI COLECTIVO RURAL              1       NaN   \n",
       "\n",
       "  RUT_RESPONSABLE             NOMBRE_RESPONSABLE NOMBRE_FANTASIA TIPO_PERSONA   \n",
       "0             NaN     FRANCISCO R. CARLOS MAMANI             NaN      NATURAL  \\\n",
       "1             NaN         JORGE ANDRES SOTO LARA             NaN      NATURAL   \n",
       "2             NaN  RENE RUPERTO OYANADEL RIVEROS             NaN      NATURAL   \n",
       "3             NaN         JOSE LINO CUELLO YA?EZ             NaN      NATURAL   \n",
       "4             NaN   LUIS PEDRO BOTTARELLI ARROYO             NaN      NATURAL   \n",
       "\n",
       "  DOMICILIO COMUNA REGION.1 TELEFONO  FAX EMAIL  \n",
       "0       NaN    NaN      NaN      NaN  NaN   NaN  \n",
       "1       NaN    NaN      NaN      NaN  NaN   NaN  \n",
       "2       NaN    NaN      NaN      NaN  NaN   NaN  \n",
       "3       NaN    NaN      NaN      NaN  NaN   NaN  \n",
       "4       NaN    NaN      NaN      NaN  NaN   NaN  "
      ]
     },
     "execution_count": 95,
     "metadata": {},
     "output_type": "execute_result"
    }
   ],
   "source": [
    "servicios.head()"
   ]
  },
  {
   "cell_type": "code",
   "execution_count": 102,
   "metadata": {},
   "outputs": [
    {
     "data": {
      "text/html": [
       "<div>\n",
       "<style scoped>\n",
       "    .dataframe tbody tr th:only-of-type {\n",
       "        vertical-align: middle;\n",
       "    }\n",
       "\n",
       "    .dataframe tbody tr th {\n",
       "        vertical-align: top;\n",
       "    }\n",
       "\n",
       "    .dataframe thead th {\n",
       "        text-align: right;\n",
       "    }\n",
       "</style>\n",
       "<table border=\"1\" class=\"dataframe\">\n",
       "  <thead>\n",
       "    <tr style=\"text-align: right;\">\n",
       "      <th></th>\n",
       "      <th>REGION</th>\n",
       "      <th>FOLIO</th>\n",
       "      <th>TIPO_SERVICIO</th>\n",
       "      <th>FLOTA VIGENTE</th>\n",
       "      <th>NRO_LINEA</th>\n",
       "      <th>RUT_RESPONSABLE</th>\n",
       "      <th>NOMBRE_RESPONSABLE</th>\n",
       "      <th>NOMBRE_FANTASIA</th>\n",
       "      <th>TIPO_PERSONA</th>\n",
       "      <th>DOMICILIO</th>\n",
       "      <th>COMUNA</th>\n",
       "      <th>REGION.1</th>\n",
       "      <th>TELEFONO</th>\n",
       "      <th>FAX</th>\n",
       "      <th>EMAIL</th>\n",
       "    </tr>\n",
       "  </thead>\n",
       "  <tbody>\n",
       "    <tr>\n",
       "      <th>37</th>\n",
       "      <td>3</td>\n",
       "      <td>6000</td>\n",
       "      <td>TAXI COLECTIVO RURAL</td>\n",
       "      <td>63</td>\n",
       "      <td>3</td>\n",
       "      <td>72775200-5</td>\n",
       "      <td>SINDICATO DE  TRABAJADORES INDEPENDIENTES DUE?...</td>\n",
       "      <td>LINEA N? 3</td>\n",
       "      <td>JURIDICA</td>\n",
       "      <td>LOS AROMOS N? 1960 POBLACION SANTA ELVIRA</td>\n",
       "      <td>Copiapó</td>\n",
       "      <td>DE ATACAMA</td>\n",
       "      <td>52-218106</td>\n",
       "      <td>975522818</td>\n",
       "      <td>NaN</td>\n",
       "    </tr>\n",
       "    <tr>\n",
       "      <th>38</th>\n",
       "      <td>3</td>\n",
       "      <td>6005</td>\n",
       "      <td>TAXI COLECTIVO RURAL</td>\n",
       "      <td>3</td>\n",
       "      <td>10</td>\n",
       "      <td>76928700-0</td>\n",
       "      <td>MU?OZ E HIJOS Y CÍA. LTDA.</td>\n",
       "      <td>TRANS-O.M.G. LTDA.</td>\n",
       "      <td>JURIDICA</td>\n",
       "      <td>AVENIDA ARICA N? 727</td>\n",
       "      <td>Caldera</td>\n",
       "      <td>DE ATACAMA</td>\n",
       "      <td>97932214</td>\n",
       "      <td>NaN</td>\n",
       "      <td>EMPRESAOMG@YAHOO.COM</td>\n",
       "    </tr>\n",
       "    <tr>\n",
       "      <th>39</th>\n",
       "      <td>3</td>\n",
       "      <td>6003</td>\n",
       "      <td>TAXI COLECTIVO RURAL</td>\n",
       "      <td>55</td>\n",
       "      <td>88</td>\n",
       "      <td>73686800-8</td>\n",
       "      <td>SINDICATO DE TRABAJADORES INDEPENDIENTES DE DU...</td>\n",
       "      <td>LINA 88</td>\n",
       "      <td>JURIDICA</td>\n",
       "      <td>LLANOS DE AGUAS BLANCAS 5960, LLANOS DE OLLANYAY</td>\n",
       "      <td>Tierra Amarilla</td>\n",
       "      <td>DE ATACAMA</td>\n",
       "      <td>958893957</td>\n",
       "      <td>NaN</td>\n",
       "      <td>RODRI.GAU@HOTMAIL.COM</td>\n",
       "    </tr>\n",
       "    <tr>\n",
       "      <th>40</th>\n",
       "      <td>3</td>\n",
       "      <td>5002</td>\n",
       "      <td>TAXI COLECTIVO RURAL</td>\n",
       "      <td>12</td>\n",
       "      <td>NaN</td>\n",
       "      <td>72661000-2</td>\n",
       "      <td>SINDICATO TRABAJADORES TAXIS COLECTIVOS</td>\n",
       "      <td>VALLE DEL HUASCO</td>\n",
       "      <td>JURIDICA</td>\n",
       "      <td>AV. BRASIL N? 711</td>\n",
       "      <td>Vallenar</td>\n",
       "      <td>DE ATACAMA</td>\n",
       "      <td>NaN</td>\n",
       "      <td>64952792</td>\n",
       "      <td>NaN</td>\n",
       "    </tr>\n",
       "    <tr>\n",
       "      <th>115</th>\n",
       "      <td>4</td>\n",
       "      <td>120</td>\n",
       "      <td>TAXI COLECTIVO RURAL</td>\n",
       "      <td>13</td>\n",
       "      <td>NaN</td>\n",
       "      <td>72621000-4</td>\n",
       "      <td>SIND. DE TRABAJADORES INDEPENDIENTES DE DUE?OS...</td>\n",
       "      <td>TACSO</td>\n",
       "      <td>JURIDICA</td>\n",
       "      <td>ARIZTIA PONIENTE 159</td>\n",
       "      <td>La Serena</td>\n",
       "      <td>DE COQUIMBO</td>\n",
       "      <td>215507</td>\n",
       "      <td>(53)630989</td>\n",
       "      <td>TACSOOVALLE@HOTMAIL.COM</td>\n",
       "    </tr>\n",
       "  </tbody>\n",
       "</table>\n",
       "</div>"
      ],
      "text/plain": [
       "     REGION  FOLIO         TIPO_SERVICIO  FLOTA VIGENTE NRO_LINEA   \n",
       "37        3   6000  TAXI COLECTIVO RURAL             63         3  \\\n",
       "38        3   6005  TAXI COLECTIVO RURAL              3        10   \n",
       "39        3   6003  TAXI COLECTIVO RURAL             55        88   \n",
       "40        3   5002  TAXI COLECTIVO RURAL             12       NaN   \n",
       "115       4    120  TAXI COLECTIVO RURAL             13       NaN   \n",
       "\n",
       "    RUT_RESPONSABLE                                 NOMBRE_RESPONSABLE   \n",
       "37       72775200-5  SINDICATO DE  TRABAJADORES INDEPENDIENTES DUE?...  \\\n",
       "38       76928700-0                         MU?OZ E HIJOS Y CÍA. LTDA.   \n",
       "39       73686800-8  SINDICATO DE TRABAJADORES INDEPENDIENTES DE DU...   \n",
       "40       72661000-2            SINDICATO TRABAJADORES TAXIS COLECTIVOS   \n",
       "115      72621000-4  SIND. DE TRABAJADORES INDEPENDIENTES DE DUE?OS...   \n",
       "\n",
       "        NOMBRE_FANTASIA TIPO_PERSONA   \n",
       "37           LINEA N? 3     JURIDICA  \\\n",
       "38   TRANS-O.M.G. LTDA.     JURIDICA   \n",
       "39              LINA 88     JURIDICA   \n",
       "40     VALLE DEL HUASCO     JURIDICA   \n",
       "115               TACSO     JURIDICA   \n",
       "\n",
       "                                            DOMICILIO           COMUNA   \n",
       "37          LOS AROMOS N? 1960 POBLACION SANTA ELVIRA          Copiapó  \\\n",
       "38                               AVENIDA ARICA N? 727          Caldera   \n",
       "39   LLANOS DE AGUAS BLANCAS 5960, LLANOS DE OLLANYAY  Tierra Amarilla   \n",
       "40                                  AV. BRASIL N? 711         Vallenar   \n",
       "115                              ARIZTIA PONIENTE 159        La Serena   \n",
       "\n",
       "        REGION.1   TELEFONO         FAX                    EMAIL  \n",
       "37    DE ATACAMA  52-218106   975522818                      NaN  \n",
       "38    DE ATACAMA   97932214         NaN     EMPRESAOMG@YAHOO.COM  \n",
       "39    DE ATACAMA  958893957         NaN    RODRI.GAU@HOTMAIL.COM  \n",
       "40    DE ATACAMA        NaN    64952792                      NaN  \n",
       "115  DE COQUIMBO     215507  (53)630989  TACSOOVALLE@HOTMAIL.COM  "
      ]
     },
     "execution_count": 102,
     "metadata": {},
     "output_type": "execute_result"
    }
   ],
   "source": [
    "servicios[servicios['TIPO_PERSONA'] == 'JURIDICA'].head()"
   ]
  },
  {
   "cell_type": "code",
   "execution_count": 96,
   "metadata": {},
   "outputs": [
    {
     "data": {
      "text/plain": [
       "TIPO_PERSONA\n",
       "NATURAL     38351\n",
       "JURIDICA     3174\n",
       "Name: count, dtype: int64"
      ]
     },
     "execution_count": 96,
     "metadata": {},
     "output_type": "execute_result"
    }
   ],
   "source": [
    "servicios['TIPO_PERSONA'].value_counts()"
   ]
  },
  {
   "cell_type": "code",
   "execution_count": 104,
   "metadata": {},
   "outputs": [],
   "source": [
    "def porcentaje_de_nulos(df: pd.DataFrame) -> pd.DataFrame:\n",
    "    \"\"\"Get the percentage of null values in each column of a DataFrame.\"\"\"\n",
    "    nulls = df.isnull().sum() / df.shape[0] * 100\n",
    "    return nulls.to_frame('Porcentaje de nulos')\n"
   ]
  },
  {
   "cell_type": "code",
   "execution_count": null,
   "metadata": {},
   "outputs": [],
   "source": [
    "nulls_servicios = porcentaje_de_nulos(servicios)\n",
    "nulls_servicios"
   ]
  },
  {
   "attachments": {},
   "cell_type": "markdown",
   "metadata": {},
   "source": [
    "Podemos ver que los datos de los servicios tienen muchos valores nulos, esto se debe a que estas columnas contienen información únicamente de aquellas lineas que tratan de una persona jurídica en lugar de una persona natural, la información de los registros de personas naturales se encuentra en\n",
    "la tabla de RepLegal. Por lo tanto, no es que falte información, sólo está organizada de manera distinta, por lo que tras una normalización de datos aquí no debería haber un gran porcentaje de valores nulos. "
   ]
  },
  {
   "cell_type": "code",
   "execution_count": 105,
   "metadata": {},
   "outputs": [
    {
     "data": {
      "text/html": [
       "<div>\n",
       "<style scoped>\n",
       "    .dataframe tbody tr th:only-of-type {\n",
       "        vertical-align: middle;\n",
       "    }\n",
       "\n",
       "    .dataframe tbody tr th {\n",
       "        vertical-align: top;\n",
       "    }\n",
       "\n",
       "    .dataframe thead th {\n",
       "        text-align: right;\n",
       "    }\n",
       "</style>\n",
       "<table border=\"1\" class=\"dataframe\">\n",
       "  <thead>\n",
       "    <tr style=\"text-align: right;\">\n",
       "      <th></th>\n",
       "      <th>Porcentaje de nulos</th>\n",
       "    </tr>\n",
       "  </thead>\n",
       "  <tbody>\n",
       "    <tr>\n",
       "      <th>REGION</th>\n",
       "      <td>0.0</td>\n",
       "    </tr>\n",
       "    <tr>\n",
       "      <th>FOLIO</th>\n",
       "      <td>0.0</td>\n",
       "    </tr>\n",
       "    <tr>\n",
       "      <th>TIPO_SERVICIO</th>\n",
       "      <td>0.0</td>\n",
       "    </tr>\n",
       "    <tr>\n",
       "      <th>NOMBRE_REPLEGAL</th>\n",
       "      <td>0.0</td>\n",
       "    </tr>\n",
       "  </tbody>\n",
       "</table>\n",
       "</div>"
      ],
      "text/plain": [
       "                 Porcentaje de nulos\n",
       "REGION                           0.0\n",
       "FOLIO                            0.0\n",
       "TIPO_SERVICIO                    0.0\n",
       "NOMBRE_REPLEGAL                  0.0"
      ]
     },
     "execution_count": 105,
     "metadata": {},
     "output_type": "execute_result"
    }
   ],
   "source": [
    "porcentaje_de_nulos(rep_legales)"
   ]
  },
  {
   "cell_type": "code",
   "execution_count": 107,
   "metadata": {},
   "outputs": [
    {
     "data": {
      "text/html": [
       "<div>\n",
       "<style scoped>\n",
       "    .dataframe tbody tr th:only-of-type {\n",
       "        vertical-align: middle;\n",
       "    }\n",
       "\n",
       "    .dataframe tbody tr th {\n",
       "        vertical-align: top;\n",
       "    }\n",
       "\n",
       "    .dataframe thead th {\n",
       "        text-align: right;\n",
       "    }\n",
       "</style>\n",
       "<table border=\"1\" class=\"dataframe\">\n",
       "  <thead>\n",
       "    <tr style=\"text-align: right;\">\n",
       "      <th></th>\n",
       "      <th>Porcentaje de nulos</th>\n",
       "    </tr>\n",
       "  </thead>\n",
       "  <tbody>\n",
       "    <tr>\n",
       "      <th>REGION</th>\n",
       "      <td>0.000000</td>\n",
       "    </tr>\n",
       "    <tr>\n",
       "      <th>FOLIO</th>\n",
       "      <td>0.000000</td>\n",
       "    </tr>\n",
       "    <tr>\n",
       "      <th>TIPO_SERVICIO</th>\n",
       "      <td>0.000000</td>\n",
       "    </tr>\n",
       "    <tr>\n",
       "      <th>PPU</th>\n",
       "      <td>0.000000</td>\n",
       "    </tr>\n",
       "    <tr>\n",
       "      <th>FECHA_INGRESO_RNT</th>\n",
       "      <td>0.000000</td>\n",
       "    </tr>\n",
       "    <tr>\n",
       "      <th>MARCA</th>\n",
       "      <td>0.000000</td>\n",
       "    </tr>\n",
       "    <tr>\n",
       "      <th>MODELO</th>\n",
       "      <td>0.003676</td>\n",
       "    </tr>\n",
       "    <tr>\n",
       "      <th>ANO_FABRICACION</th>\n",
       "      <td>0.000000</td>\n",
       "    </tr>\n",
       "    <tr>\n",
       "      <th>CAPACIDAD</th>\n",
       "      <td>25.409649</td>\n",
       "    </tr>\n",
       "  </tbody>\n",
       "</table>\n",
       "</div>"
      ],
      "text/plain": [
       "                   Porcentaje de nulos\n",
       "REGION                        0.000000\n",
       "FOLIO                         0.000000\n",
       "TIPO_SERVICIO                 0.000000\n",
       "PPU                           0.000000\n",
       "FECHA_INGRESO_RNT             0.000000\n",
       "MARCA                         0.000000\n",
       "MODELO                        0.003676\n",
       "ANO_FABRICACION               0.000000\n",
       "CAPACIDAD                    25.409649"
      ]
     },
     "execution_count": 107,
     "metadata": {},
     "output_type": "execute_result"
    }
   ],
   "source": [
    "porcentaje_de_nulos(vehiculos)"
   ]
  },
  {
   "cell_type": "code",
   "execution_count": 108,
   "metadata": {},
   "outputs": [
    {
     "data": {
      "text/html": [
       "<div>\n",
       "<style scoped>\n",
       "    .dataframe tbody tr th:only-of-type {\n",
       "        vertical-align: middle;\n",
       "    }\n",
       "\n",
       "    .dataframe tbody tr th {\n",
       "        vertical-align: top;\n",
       "    }\n",
       "\n",
       "    .dataframe thead th {\n",
       "        text-align: right;\n",
       "    }\n",
       "</style>\n",
       "<table border=\"1\" class=\"dataframe\">\n",
       "  <thead>\n",
       "    <tr style=\"text-align: right;\">\n",
       "      <th></th>\n",
       "      <th>Porcentaje de nulos</th>\n",
       "    </tr>\n",
       "  </thead>\n",
       "  <tbody>\n",
       "    <tr>\n",
       "      <th>REGION</th>\n",
       "      <td>0.000000</td>\n",
       "    </tr>\n",
       "    <tr>\n",
       "      <th>FOLIO</th>\n",
       "      <td>0.000000</td>\n",
       "    </tr>\n",
       "    <tr>\n",
       "      <th>TIPO_SERVICIO</th>\n",
       "      <td>0.000000</td>\n",
       "    </tr>\n",
       "    <tr>\n",
       "      <th>NOMBRE_RECORRIDO</th>\n",
       "      <td>0.000000</td>\n",
       "    </tr>\n",
       "    <tr>\n",
       "      <th>TIPO_TRAZADO</th>\n",
       "      <td>0.000000</td>\n",
       "    </tr>\n",
       "    <tr>\n",
       "      <th>NOMBRE_ORIGEN</th>\n",
       "      <td>0.000000</td>\n",
       "    </tr>\n",
       "    <tr>\n",
       "      <th>COMUNA_ORIGEN</th>\n",
       "      <td>0.695869</td>\n",
       "    </tr>\n",
       "    <tr>\n",
       "      <th>DOMICILIO_ORIGEN</th>\n",
       "      <td>5.763226</td>\n",
       "    </tr>\n",
       "    <tr>\n",
       "      <th>NOMBRE_DESTINO</th>\n",
       "      <td>0.000000</td>\n",
       "    </tr>\n",
       "    <tr>\n",
       "      <th>COMUNA_DESTINO</th>\n",
       "      <td>1.043804</td>\n",
       "    </tr>\n",
       "    <tr>\n",
       "      <th>DOMICILIO_DESTINO</th>\n",
       "      <td>9.465608</td>\n",
       "    </tr>\n",
       "  </tbody>\n",
       "</table>\n",
       "</div>"
      ],
      "text/plain": [
       "                   Porcentaje de nulos\n",
       "REGION                        0.000000\n",
       "FOLIO                         0.000000\n",
       "TIPO_SERVICIO                 0.000000\n",
       "NOMBRE_RECORRIDO              0.000000\n",
       "TIPO_TRAZADO                  0.000000\n",
       "NOMBRE_ORIGEN                 0.000000\n",
       "COMUNA_ORIGEN                 0.695869\n",
       "DOMICILIO_ORIGEN              5.763226\n",
       "NOMBRE_DESTINO                0.000000\n",
       "COMUNA_DESTINO                1.043804\n",
       "DOMICILIO_DESTINO             9.465608"
      ]
     },
     "execution_count": 108,
     "metadata": {},
     "output_type": "execute_result"
    }
   ],
   "source": [
    "porcentaje_de_nulos(recorridos)"
   ]
  },
  {
   "cell_type": "code",
   "execution_count": 110,
   "metadata": {},
   "outputs": [
    {
     "data": {
      "text/html": [
       "<div>\n",
       "<style scoped>\n",
       "    .dataframe tbody tr th:only-of-type {\n",
       "        vertical-align: middle;\n",
       "    }\n",
       "\n",
       "    .dataframe tbody tr th {\n",
       "        vertical-align: top;\n",
       "    }\n",
       "\n",
       "    .dataframe thead th {\n",
       "        text-align: right;\n",
       "    }\n",
       "</style>\n",
       "<table border=\"1\" class=\"dataframe\">\n",
       "  <thead>\n",
       "    <tr style=\"text-align: right;\">\n",
       "      <th></th>\n",
       "      <th>Porcentaje de nulos</th>\n",
       "    </tr>\n",
       "  </thead>\n",
       "  <tbody>\n",
       "    <tr>\n",
       "      <th>REGION</th>\n",
       "      <td>0.000000</td>\n",
       "    </tr>\n",
       "    <tr>\n",
       "      <th>FOLIO</th>\n",
       "      <td>0.000000</td>\n",
       "    </tr>\n",
       "    <tr>\n",
       "      <th>TIPO_SERVICIO</th>\n",
       "      <td>0.000000</td>\n",
       "    </tr>\n",
       "    <tr>\n",
       "      <th>NOMBRE_RECORRIDO</th>\n",
       "      <td>0.000000</td>\n",
       "    </tr>\n",
       "    <tr>\n",
       "      <th>TIPO_TRAZADO</th>\n",
       "      <td>0.000000</td>\n",
       "    </tr>\n",
       "    <tr>\n",
       "      <th>ORDEN</th>\n",
       "      <td>0.000000</td>\n",
       "    </tr>\n",
       "    <tr>\n",
       "      <th>SENTIDO</th>\n",
       "      <td>0.000000</td>\n",
       "    </tr>\n",
       "    <tr>\n",
       "      <th>CALLE</th>\n",
       "      <td>0.000000</td>\n",
       "    </tr>\n",
       "    <tr>\n",
       "      <th>COMUNA</th>\n",
       "      <td>0.000307</td>\n",
       "    </tr>\n",
       "  </tbody>\n",
       "</table>\n",
       "</div>"
      ],
      "text/plain": [
       "                  Porcentaje de nulos\n",
       "REGION                       0.000000\n",
       "FOLIO                        0.000000\n",
       "TIPO_SERVICIO                0.000000\n",
       "NOMBRE_RECORRIDO             0.000000\n",
       "TIPO_TRAZADO                 0.000000\n",
       "ORDEN                        0.000000\n",
       "SENTIDO                      0.000000\n",
       "CALLE                        0.000000\n",
       "COMUNA                       0.000307"
      ]
     },
     "execution_count": 110,
     "metadata": {},
     "output_type": "execute_result"
    }
   ],
   "source": [
    "porcentaje_de_nulos(trazados)"
   ]
  },
  {
   "attachments": {},
   "cell_type": "markdown",
   "metadata": {},
   "source": [
    "Tras ver estas tablas podemos ver que tienen un número reducido de nulos, por lo que es probable que los datos sean útiles y que no requieran de una limpieza muy exhaustiva."
   ]
  },
  {
   "attachments": {},
   "cell_type": "markdown",
   "metadata": {},
   "source": [
    "### Dominio de los valores"
   ]
  },
  {
   "attachments": {},
   "cell_type": "markdown",
   "metadata": {},
   "source": [
    "A continuación se muestran los dominios de los valores de las columnas de las tablas de abril (consideremos object como string)"
   ]
  },
  {
   "cell_type": "code",
   "execution_count": 111,
   "metadata": {},
   "outputs": [
    {
     "name": "stdout",
     "output_type": "stream",
     "text": [
      "<class 'pandas.core.frame.DataFrame'>\n",
      "RangeIndex: 41525 entries, 0 to 41524\n",
      "Data columns (total 15 columns):\n",
      " #   Column              Non-Null Count  Dtype \n",
      "---  ------              --------------  ----- \n",
      " 0   REGION              41525 non-null  int64 \n",
      " 1   FOLIO               41525 non-null  int64 \n",
      " 2   TIPO_SERVICIO       41525 non-null  object\n",
      " 3   FLOTA VIGENTE       41525 non-null  int64 \n",
      " 4   NRO_LINEA           2043 non-null   object\n",
      " 5   RUT_RESPONSABLE     3174 non-null   object\n",
      " 6   NOMBRE_RESPONSABLE  41525 non-null  object\n",
      " 7   NOMBRE_FANTASIA     1784 non-null   object\n",
      " 8   TIPO_PERSONA        41525 non-null  object\n",
      " 9   DOMICILIO           3171 non-null   object\n",
      " 10  COMUNA              3167 non-null   object\n",
      " 11  REGION.1            3167 non-null   object\n",
      " 12  TELEFONO            3006 non-null   object\n",
      " 13  FAX                 611 non-null    object\n",
      " 14  EMAIL               2201 non-null   object\n",
      "dtypes: int64(3), object(12)\n",
      "memory usage: 4.8+ MB\n"
     ]
    },
    {
     "data": {
      "text/plain": [
       "None"
      ]
     },
     "metadata": {},
     "output_type": "display_data"
    },
    {
     "name": "stdout",
     "output_type": "stream",
     "text": [
      "<class 'pandas.core.frame.DataFrame'>\n",
      "RangeIndex: 4489 entries, 0 to 4488\n",
      "Data columns (total 4 columns):\n",
      " #   Column           Non-Null Count  Dtype \n",
      "---  ------           --------------  ----- \n",
      " 0   REGION           4489 non-null   int64 \n",
      " 1   FOLIO            4489 non-null   int64 \n",
      " 2   TIPO_SERVICIO    4489 non-null   object\n",
      " 3   NOMBRE_REPLEGAL  4489 non-null   object\n",
      "dtypes: int64(2), object(2)\n",
      "memory usage: 140.4+ KB\n"
     ]
    },
    {
     "data": {
      "text/plain": [
       "None"
      ]
     },
     "metadata": {},
     "output_type": "display_data"
    },
    {
     "name": "stdout",
     "output_type": "stream",
     "text": [
      "<class 'pandas.core.frame.DataFrame'>\n",
      "RangeIndex: 136031 entries, 0 to 136030\n",
      "Data columns (total 9 columns):\n",
      " #   Column             Non-Null Count   Dtype  \n",
      "---  ------             --------------   -----  \n",
      " 0   REGION             136031 non-null  int64  \n",
      " 1   FOLIO              136031 non-null  int64  \n",
      " 2   TIPO_SERVICIO      136031 non-null  object \n",
      " 3   PPU                136031 non-null  object \n",
      " 4   FECHA_INGRESO_RNT  136031 non-null  object \n",
      " 5   MARCA              136031 non-null  object \n",
      " 6   MODELO             136026 non-null  object \n",
      " 7   ANO_FABRICACION    136031 non-null  int64  \n",
      " 8   CAPACIDAD          101466 non-null  float64\n",
      "dtypes: float64(1), int64(3), object(5)\n",
      "memory usage: 9.3+ MB\n"
     ]
    },
    {
     "data": {
      "text/plain": [
       "None"
      ]
     },
     "metadata": {},
     "output_type": "display_data"
    },
    {
     "name": "stdout",
     "output_type": "stream",
     "text": [
      "<class 'pandas.core.frame.DataFrame'>\n",
      "RangeIndex: 11209 entries, 0 to 11208\n",
      "Data columns (total 11 columns):\n",
      " #   Column             Non-Null Count  Dtype \n",
      "---  ------             --------------  ----- \n",
      " 0   REGION             11209 non-null  int64 \n",
      " 1   FOLIO              11209 non-null  int64 \n",
      " 2   TIPO_SERVICIO      11209 non-null  object\n",
      " 3   NOMBRE_RECORRIDO   11209 non-null  object\n",
      " 4   TIPO_TRAZADO       11209 non-null  object\n",
      " 5   NOMBRE_ORIGEN      11209 non-null  object\n",
      " 6   COMUNA_ORIGEN      11131 non-null  object\n",
      " 7   DOMICILIO_ORIGEN   10563 non-null  object\n",
      " 8   NOMBRE_DESTINO     11209 non-null  object\n",
      " 9   COMUNA_DESTINO     11092 non-null  object\n",
      " 10  DOMICILIO_DESTINO  10148 non-null  object\n",
      "dtypes: int64(2), object(9)\n",
      "memory usage: 963.4+ KB\n"
     ]
    },
    {
     "data": {
      "text/plain": [
       "None"
      ]
     },
     "metadata": {},
     "output_type": "display_data"
    },
    {
     "name": "stdout",
     "output_type": "stream",
     "text": [
      "<class 'pandas.core.frame.DataFrame'>\n",
      "RangeIndex: 326154 entries, 0 to 326153\n",
      "Data columns (total 9 columns):\n",
      " #   Column            Non-Null Count   Dtype \n",
      "---  ------            --------------   ----- \n",
      " 0   REGION            326154 non-null  int64 \n",
      " 1   FOLIO             326154 non-null  int64 \n",
      " 2   TIPO_SERVICIO     326154 non-null  object\n",
      " 3   NOMBRE_RECORRIDO  326154 non-null  object\n",
      " 4   TIPO_TRAZADO      326154 non-null  object\n",
      " 5   ORDEN             326154 non-null  int64 \n",
      " 6   SENTIDO           326154 non-null  object\n",
      " 7   CALLE             326154 non-null  object\n",
      " 8   COMUNA            326153 non-null  object\n",
      "dtypes: int64(3), object(6)\n",
      "memory usage: 22.4+ MB\n"
     ]
    },
    {
     "data": {
      "text/plain": [
       "None"
      ]
     },
     "metadata": {},
     "output_type": "display_data"
    }
   ],
   "source": [
    "for df in [servicios, rep_legales, vehiculos, recorridos, trazados]:\n",
    "    display(df.info())"
   ]
  },
  {
   "attachments": {},
   "cell_type": "markdown",
   "metadata": {},
   "source": [
    "### Distribuciones importantes"
   ]
  },
  {
   "attachments": {},
   "cell_type": "markdown",
   "metadata": {},
   "source": [
    "Una de las cosas más interesantes para ver es la distribución de tipos de servicio y ver qué valores puede tomar:"
   ]
  },
  {
   "cell_type": "code",
   "execution_count": 117,
   "metadata": {},
   "outputs": [
    {
     "data": {
      "text/plain": [
       "<AxesSubplot: xlabel='TIPO_SERVICIO'>"
      ]
     },
     "execution_count": 117,
     "metadata": {},
     "output_type": "execute_result"
    },
    {
     "data": {
      "image/png": "[encoded data removed]",
      "text/plain": [
       "<Figure size 640x480 with 1 Axes>"
      ]
     },
     "metadata": {},
     "output_type": "display_data"
    }
   ],
   "source": [
    "servicios[\"TIPO_SERVICIO\"].value_counts().plot(kind='bar')"
   ]
  },
  {
   "attachments": {},
   "cell_type": "markdown",
   "metadata": {},
   "source": [
    "Una de las cosas más imporantes es el tipo de servicio con el que vamos a trabajar, podemos ver que se trata principalmente de taxis. Seguramente ya que son muchos más, pero también están las micros."
   ]
  }
 ],
 "metadata": {
  "kernelspec": {
   "display_name": "venv",
   "language": "python",
   "name": "python3"
  },
  "language_info": {
   "codemirror_mode": {
    "name": "ipython",
    "version": 3
   },
   "file_extension": ".py",
   "mimetype": "text/x-python",
   "name": "python",
   "nbconvert_exporter": "python",
   "pygments_lexer": "ipython3",
   "version": "3.11.1"
  },
  "orig_nbformat": 4
 },
 "nbformat": 4,
 "nbformat_minor": 2
}
