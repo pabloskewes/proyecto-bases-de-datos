{
 "cells": [
  {
   "attachments": {},
   "cell_type": "markdown",
   "metadata": {},
   "source": [
    "# Normalización de Datos"
   ]
  },
  {
   "cell_type": "code",
   "execution_count": 37,
   "metadata": {},
   "outputs": [],
   "source": [
    "from typing import List, Iterable, Set\n",
    "from itertools import chain, combinations\n",
    "from pathlib import Path\n",
    "import pandas as pd\n",
    "import joblib\n",
    "import matplotlib.pyplot as plt\n",
    "from enum import StrEnum\n",
    "from tqdm import tqdm, trange"
   ]
  },
  {
   "cell_type": "code",
   "execution_count": 4,
   "metadata": {},
   "outputs": [],
   "source": [
    "DATA_DIR = Path('data').resolve()\n",
    "\n",
    "MARZO_PATH = DATA_DIR / 'Marzo-2021.xlsx'\n",
    "ABRIL_PATH = DATA_DIR / 'Abril-2021.xlsx'\n",
    "\n",
    "PKLS_PATH = DATA_DIR / 'pkls'\n",
    "\n",
    "MES = 'Abril'\n",
    "PATH_MES = {\n",
    "    'Marzo': MARZO_PATH,\n",
    "    'Abril': ABRIL_PATH\n",
    "}"
   ]
  },
  {
   "cell_type": "code",
   "execution_count": 5,
   "metadata": {},
   "outputs": [],
   "source": [
    "class TableName(StrEnum):\n",
    "    SERVICIOS = 'Servicios'\n",
    "    REP_LEGALES = 'RepLegales'\n",
    "    VEHICULOS = 'Vehiculos'\n",
    "    O_D_RECORRIDOS = 'O-D Recorridos'\n",
    "    TRAZADOS = 'Trazados'\n",
    "    \n",
    "    @classmethod\n",
    "    def get_sheet_names(cls) -> list[str]:\n",
    "        return [table_name.value for table_name in cls]\n",
    "    \n",
    "def get_data(path: str, sheet_name: str) -> pd.DataFrame:\n",
    "    \"\"\"Get the data from an Excel file.\"\"\"\n",
    "    return pd.read_excel(path, sheet_name=sheet_name)"
   ]
  },
  {
   "cell_type": "code",
   "execution_count": 6,
   "metadata": {},
   "outputs": [],
   "source": [
    "# read as CSVs\n",
    "\n",
    "# servicios = get_data(PATH_MES[MES], TableName.SERVICIOS.value)\n",
    "# rep_legales = get_data(PATH_MES[MES], TableName.REP_LEGALES.value)\n",
    "# vehiculos = get_data(PATH_MES[MES], TableName.VEHICULOS.value)\n",
    "# recorridos = get_data(PATH_MES[MES], TableName.O_D_RECORRIDOS.value)\n",
    "# trazados = get_data(PATH_MES[MES], TableName.TRAZADOS.value)"
   ]
  },
  {
   "cell_type": "code",
   "execution_count": 7,
   "metadata": {},
   "outputs": [],
   "source": [
    "# save as pickles for faster loading\n",
    "\n",
    "# joblib.dump(servicios, PKLS_PATH / f'{MES}_servicios.pkl')\n",
    "# joblib.dump(rep_legales, PKLS_PATH / f'{MES}_rep_legales.pkl')\n",
    "# joblib.dump(vehiculos, PKLS_PATH / f'{MES}_vehiculos.pkl')\n",
    "# joblib.dump(recorridos, PKLS_PATH / f'{MES}_recorridos.pkl')\n",
    "# joblib.dump(trazados, PKLS_PATH / f'{MES}_trazados.pkl')"
   ]
  },
  {
   "cell_type": "code",
   "execution_count": 182,
   "metadata": {},
   "outputs": [],
   "source": [
    "# load pickles\n",
    "servicios = joblib.load(PKLS_PATH / f'{MES}_servicios.pkl')\n",
    "rep_legales = joblib.load(PKLS_PATH / f'{MES}_rep_legales.pkl')\n",
    "vehiculos = joblib.load(PKLS_PATH / f'{MES}_vehiculos.pkl')\n",
    "recorridos = joblib.load(PKLS_PATH / f'{MES}_recorridos.pkl')\n",
    "trazados = joblib.load(PKLS_PATH / f'{MES}_trazados.pkl')"
   ]
  },
  {
   "attachments": {},
   "cell_type": "markdown",
   "metadata": {},
   "source": [
    "## Identificación de llaves"
   ]
  },
  {
   "cell_type": "code",
   "execution_count": 27,
   "metadata": {},
   "outputs": [],
   "source": [
    "def is_candidate_key(df: pd.DataFrame, cols: List[str]) -> bool:\n",
    "    \"\"\"Check if the given columns are a candidate key for the given DataFrame.\"\"\"\n",
    "    return df[cols].drop_duplicates().shape[0] == df.shape[0]"
   ]
  },
  {
   "attachments": {},
   "cell_type": "markdown",
   "metadata": {},
   "source": [
    "### Servicios\n"
   ]
  },
  {
   "cell_type": "code",
   "execution_count": 28,
   "metadata": {},
   "outputs": [
    {
     "data": {
      "text/html": [
       "<div>\n",
       "<style scoped>\n",
       "    .dataframe tbody tr th:only-of-type {\n",
       "        vertical-align: middle;\n",
       "    }\n",
       "\n",
       "    .dataframe tbody tr th {\n",
       "        vertical-align: top;\n",
       "    }\n",
       "\n",
       "    .dataframe thead th {\n",
       "        text-align: right;\n",
       "    }\n",
       "</style>\n",
       "<table border=\"1\" class=\"dataframe\">\n",
       "  <thead>\n",
       "    <tr style=\"text-align: right;\">\n",
       "      <th></th>\n",
       "      <th>REGION</th>\n",
       "      <th>FOLIO</th>\n",
       "      <th>TIPO_SERVICIO</th>\n",
       "      <th>FLOTA VIGENTE</th>\n",
       "      <th>NRO_LINEA</th>\n",
       "      <th>RUT_RESPONSABLE</th>\n",
       "      <th>NOMBRE_RESPONSABLE</th>\n",
       "      <th>NOMBRE_FANTASIA</th>\n",
       "      <th>TIPO_PERSONA</th>\n",
       "      <th>DOMICILIO</th>\n",
       "      <th>COMUNA</th>\n",
       "      <th>REGION.1</th>\n",
       "      <th>TELEFONO</th>\n",
       "      <th>FAX</th>\n",
       "      <th>EMAIL</th>\n",
       "    </tr>\n",
       "  </thead>\n",
       "  <tbody>\n",
       "    <tr>\n",
       "      <th>0</th>\n",
       "      <td>1</td>\n",
       "      <td>10</td>\n",
       "      <td>TAXI COLECTIVO RURAL</td>\n",
       "      <td>1</td>\n",
       "      <td>NaN</td>\n",
       "      <td>NaN</td>\n",
       "      <td>FRANCISCO R. CARLOS MAMANI</td>\n",
       "      <td>NaN</td>\n",
       "      <td>NATURAL</td>\n",
       "      <td>NaN</td>\n",
       "      <td>NaN</td>\n",
       "      <td>NaN</td>\n",
       "      <td>NaN</td>\n",
       "      <td>NaN</td>\n",
       "      <td>NaN</td>\n",
       "    </tr>\n",
       "    <tr>\n",
       "      <th>1</th>\n",
       "      <td>1</td>\n",
       "      <td>4608</td>\n",
       "      <td>TAXI COLECTIVO RURAL</td>\n",
       "      <td>1</td>\n",
       "      <td>NaN</td>\n",
       "      <td>NaN</td>\n",
       "      <td>JORGE ANDRES SOTO LARA</td>\n",
       "      <td>NaN</td>\n",
       "      <td>NATURAL</td>\n",
       "      <td>NaN</td>\n",
       "      <td>NaN</td>\n",
       "      <td>NaN</td>\n",
       "      <td>NaN</td>\n",
       "      <td>NaN</td>\n",
       "      <td>NaN</td>\n",
       "    </tr>\n",
       "    <tr>\n",
       "      <th>2</th>\n",
       "      <td>1</td>\n",
       "      <td>27</td>\n",
       "      <td>TAXI COLECTIVO RURAL</td>\n",
       "      <td>1</td>\n",
       "      <td>NaN</td>\n",
       "      <td>NaN</td>\n",
       "      <td>RENE RUPERTO OYANADEL RIVEROS</td>\n",
       "      <td>NaN</td>\n",
       "      <td>NATURAL</td>\n",
       "      <td>NaN</td>\n",
       "      <td>NaN</td>\n",
       "      <td>NaN</td>\n",
       "      <td>NaN</td>\n",
       "      <td>NaN</td>\n",
       "      <td>NaN</td>\n",
       "    </tr>\n",
       "  </tbody>\n",
       "</table>\n",
       "</div>"
      ],
      "text/plain": [
       "   REGION  FOLIO         TIPO_SERVICIO  FLOTA VIGENTE NRO_LINEA   \n",
       "0       1     10  TAXI COLECTIVO RURAL              1       NaN  \\\n",
       "1       1   4608  TAXI COLECTIVO RURAL              1       NaN   \n",
       "2       1     27  TAXI COLECTIVO RURAL              1       NaN   \n",
       "\n",
       "  RUT_RESPONSABLE             NOMBRE_RESPONSABLE NOMBRE_FANTASIA TIPO_PERSONA   \n",
       "0             NaN     FRANCISCO R. CARLOS MAMANI             NaN      NATURAL  \\\n",
       "1             NaN         JORGE ANDRES SOTO LARA             NaN      NATURAL   \n",
       "2             NaN  RENE RUPERTO OYANADEL RIVEROS             NaN      NATURAL   \n",
       "\n",
       "  DOMICILIO COMUNA REGION.1 TELEFONO  FAX EMAIL  \n",
       "0       NaN    NaN      NaN      NaN  NaN   NaN  \n",
       "1       NaN    NaN      NaN      NaN  NaN   NaN  \n",
       "2       NaN    NaN      NaN      NaN  NaN   NaN  "
      ]
     },
     "execution_count": 28,
     "metadata": {},
     "output_type": "execute_result"
    }
   ],
   "source": [
    "servicios.head(3)"
   ]
  },
  {
   "attachments": {},
   "cell_type": "markdown",
   "metadata": {},
   "source": [
    "\n",
    "Lo más lógico es que la llave primaria de la tabla de servicios sea el número de folio. Veamos primero si {FOLIO} es llave candidata.\n"
   ]
  },
  {
   "cell_type": "code",
   "execution_count": null,
   "metadata": {},
   "outputs": [
    {
     "data": {
      "text/plain": [
       "False"
      ]
     },
     "metadata": {},
     "output_type": "display_data"
    }
   ],
   "source": [
    "is_candidate_key(servicios, ['FOLIO'])"
   ]
  },
  {
   "attachments": {},
   "cell_type": "markdown",
   "metadata": {},
   "source": [
    "Dado que hay valores duplicados para {FOLIO}, no puede ser super llave y por lo tanto no puede ser llave candidata.\n",
    "Lo siguiente más lógico es que, si el número de región se encuentra presente, entonces en realidad hay un número de folio único por región. Veamos si {FOLIO, REGION} es llave candidata.\n"
   ]
  },
  {
   "cell_type": "code",
   "execution_count": null,
   "metadata": {},
   "outputs": [
    {
     "data": {
      "text/plain": [
       "True"
      ]
     },
     "metadata": {},
     "output_type": "display_data"
    }
   ],
   "source": [
    "is_candidate_key(servicios, ['FOLIO', 'REGION'])"
   ]
  },
  {
   "attachments": {},
   "cell_type": "markdown",
   "metadata": {},
   "source": [
    "Confirmamos que {FOLIO, REGION} es llave candidata."
   ]
  },
  {
   "cell_type": "code",
   "execution_count": null,
   "metadata": {},
   "outputs": [
    {
     "data": {
      "text/plain": [
       "True"
      ]
     },
     "metadata": {},
     "output_type": "display_data"
    }
   ],
   "source": [
    "is_candidate_key(servicios, ['FOLIO', 'NOMBRE_RESPONSABLE'])"
   ]
  },
  {
   "cell_type": "code",
   "execution_count": 39,
   "metadata": {},
   "outputs": [
    {
     "data": {
      "image/png": "[encoded data removed]",
      "text/plain": [
       "<Figure size 640x480 with 1 Axes>"
      ]
     },
     "metadata": {},
     "output_type": "display_data"
    }
   ],
   "source": [
    "(\n",
    "    servicios['TIPO_PERSONA']\n",
    "    .value_counts()\n",
    "    .plot(kind='pie', autopct='%1.1f%%')\n",
    ");\n",
    "plt.title('Distribución Tipo de persona')\n",
    "plt.ylabel('')\n",
    "plt.show();\n"
   ]
  },
  {
   "cell_type": "code",
   "execution_count": 68,
   "metadata": {},
   "outputs": [
    {
     "name": "stdout",
     "output_type": "stream",
     "text": [
      "Cantidad de servicios por personas jurídicas: 3174\n"
     ]
    },
    {
     "data": {
      "text/plain": [
       "REGION                3174\n",
       "FOLIO                 3174\n",
       "TIPO_SERVICIO         3174\n",
       "FLOTA VIGENTE         3174\n",
       "NRO_LINEA             1533\n",
       "RUT_RESPONSABLE       3174\n",
       "NOMBRE_RESPONSABLE    3174\n",
       "NOMBRE_FANTASIA       1779\n",
       "TIPO_PERSONA          3174\n",
       "DOMICILIO             3171\n",
       "COMUNA                3167\n",
       "REGION.1              3167\n",
       "TELEFONO              3006\n",
       "FAX                    611\n",
       "EMAIL                 2201\n",
       "dtype: int64"
      ]
     },
     "execution_count": 68,
     "metadata": {},
     "output_type": "execute_result"
    }
   ],
   "source": [
    "servicios_juridicos = servicios[servicios['TIPO_PERSONA'] == 'JURIDICA']\n",
    "print(\n",
    "    'Cantidad de servicios por personas jurídicas: '\n",
    "    f'{servicios_juridicos.shape[0]}'\n",
    ")\n",
    "servicios_juridicos.notna().sum()"
   ]
  },
  {
   "cell_type": "code",
   "execution_count": 69,
   "metadata": {},
   "outputs": [
    {
     "name": "stdout",
     "output_type": "stream",
     "text": [
      "Total de registros para personas naturales: 38351\n"
     ]
    },
    {
     "data": {
      "text/plain": [
       "REGION                38351\n",
       "FOLIO                 38351\n",
       "TIPO_SERVICIO         38351\n",
       "FLOTA VIGENTE         38351\n",
       "NRO_LINEA               510\n",
       "RUT_RESPONSABLE           0\n",
       "NOMBRE_RESPONSABLE    38351\n",
       "NOMBRE_FANTASIA           5\n",
       "TIPO_PERSONA          38351\n",
       "DOMICILIO                 0\n",
       "COMUNA                    0\n",
       "REGION.1                  0\n",
       "TELEFONO                  0\n",
       "FAX                       0\n",
       "EMAIL                     0\n",
       "dtype: int64"
      ]
     },
     "execution_count": 69,
     "metadata": {},
     "output_type": "execute_result"
    }
   ],
   "source": [
    "servicios_naturales = servicios[servicios['TIPO_PERSONA'] == 'NATURAL']\n",
    "print(\n",
    "    'Total de registros para personas naturales: '\n",
    "    f'{servicios_naturales.shape[0]}'\n",
    ")\n",
    "servicios_naturales.notna().sum()"
   ]
  },
  {
   "attachments": {},
   "cell_type": "markdown",
   "metadata": {},
   "source": [
    "Como analizamos en el notebook de exploración de datos, la tabla de servicios en realidad se compone de 2 tablas según tipo de persona (natural o jurídica). \n",
    "\n",
    "Esto lo podemos ver ya que si filtramos para tipo de persona natural, las columnas [DOMICILIO, ..., EMAIL] tienen únicamente valores nulos, ya que esta información se encontraría realmente en la tabla \"RepLegales\", a la cual se le puede hacer join con el atributo \"RUT_RESPONSABLE\" de la tabla \"Servicios\" (de hecho podemos ver que no falta ningún RUT en la tabla de servicios).\n",
    "\n",
    "En resumen, las últimas 6 columnas de la tabla de servicios (DOMICILIO, COMUNA, REGION.1, TELEFONO, FAX, EMAIL) son en realidad atributos para personas juridicas ya que no tienen valores para personas naturales."
   ]
  },
  {
   "cell_type": "code",
   "execution_count": 71,
   "metadata": {},
   "outputs": [],
   "source": [
    "cols_datos_personales = ['DOMICILIO', 'COMUNA', 'REGION.1', 'TELEFONO', 'FAX', 'EMAIL']"
   ]
  },
  {
   "cell_type": "code",
   "execution_count": 76,
   "metadata": {},
   "outputs": [],
   "source": [
    "cols_irrelevantes = ['RUT_RESPONSABLE', 'NOMBRE_FANTASIA', 'TIPO_PERSONA']\n",
    "servicios_naturales = (\n",
    "    servicios_naturales\n",
    "    .drop(columns=cols_datos_personales + cols_irrelevantes)\n",
    ")"
   ]
  },
  {
   "cell_type": "code",
   "execution_count": 78,
   "metadata": {},
   "outputs": [
    {
     "data": {
      "text/html": [
       "<div>\n",
       "<style scoped>\n",
       "    .dataframe tbody tr th:only-of-type {\n",
       "        vertical-align: middle;\n",
       "    }\n",
       "\n",
       "    .dataframe tbody tr th {\n",
       "        vertical-align: top;\n",
       "    }\n",
       "\n",
       "    .dataframe thead th {\n",
       "        text-align: right;\n",
       "    }\n",
       "</style>\n",
       "<table border=\"1\" class=\"dataframe\">\n",
       "  <thead>\n",
       "    <tr style=\"text-align: right;\">\n",
       "      <th></th>\n",
       "      <th>REGION</th>\n",
       "      <th>FOLIO</th>\n",
       "      <th>TIPO_SERVICIO</th>\n",
       "      <th>FLOTA VIGENTE</th>\n",
       "      <th>NRO_LINEA</th>\n",
       "      <th>NOMBRE_RESPONSABLE</th>\n",
       "    </tr>\n",
       "  </thead>\n",
       "  <tbody>\n",
       "    <tr>\n",
       "      <th>0</th>\n",
       "      <td>1</td>\n",
       "      <td>10</td>\n",
       "      <td>TAXI COLECTIVO RURAL</td>\n",
       "      <td>1</td>\n",
       "      <td>NaN</td>\n",
       "      <td>FRANCISCO R. CARLOS MAMANI</td>\n",
       "    </tr>\n",
       "    <tr>\n",
       "      <th>1</th>\n",
       "      <td>1</td>\n",
       "      <td>4608</td>\n",
       "      <td>TAXI COLECTIVO RURAL</td>\n",
       "      <td>1</td>\n",
       "      <td>NaN</td>\n",
       "      <td>JORGE ANDRES SOTO LARA</td>\n",
       "    </tr>\n",
       "    <tr>\n",
       "      <th>2</th>\n",
       "      <td>1</td>\n",
       "      <td>27</td>\n",
       "      <td>TAXI COLECTIVO RURAL</td>\n",
       "      <td>1</td>\n",
       "      <td>NaN</td>\n",
       "      <td>RENE RUPERTO OYANADEL RIVEROS</td>\n",
       "    </tr>\n",
       "  </tbody>\n",
       "</table>\n",
       "</div>"
      ],
      "text/plain": [
       "   REGION  FOLIO         TIPO_SERVICIO  FLOTA VIGENTE NRO_LINEA   \n",
       "0       1     10  TAXI COLECTIVO RURAL              1       NaN  \\\n",
       "1       1   4608  TAXI COLECTIVO RURAL              1       NaN   \n",
       "2       1     27  TAXI COLECTIVO RURAL              1       NaN   \n",
       "\n",
       "              NOMBRE_RESPONSABLE  \n",
       "0     FRANCISCO R. CARLOS MAMANI  \n",
       "1         JORGE ANDRES SOTO LARA  \n",
       "2  RENE RUPERTO OYANADEL RIVEROS  "
      ]
     },
     "execution_count": 78,
     "metadata": {},
     "output_type": "execute_result"
    }
   ],
   "source": [
    "servicios_naturales.head(3)"
   ]
  },
  {
   "cell_type": "code",
   "execution_count": 79,
   "metadata": {},
   "outputs": [
    {
     "data": {
      "text/plain": [
       "REGION                38351\n",
       "FOLIO                 38351\n",
       "TIPO_SERVICIO         38351\n",
       "FLOTA VIGENTE         38351\n",
       "NRO_LINEA               510\n",
       "NOMBRE_RESPONSABLE    38351\n",
       "dtype: int64"
      ]
     },
     "execution_count": 79,
     "metadata": {},
     "output_type": "execute_result"
    }
   ],
   "source": [
    "servicios_naturales.notna().sum()"
   ]
  },
  {
   "attachments": {},
   "cell_type": "markdown",
   "metadata": {},
   "source": [
    "Ahora podemos ver que los servicios de personas naturales, tras el tratamiento de datos, ya no tiene valores nulos (excepto por NRO_LINEA que era el que más valores no nulos tenía y lo dejamos por si acaso pero se puede borrar eventualmente)."
   ]
  },
  {
   "attachments": {},
   "cell_type": "markdown",
   "metadata": {},
   "source": [
    "Tras analizar estos datos, nos damos cuenta de que en realidad distinguir la tabla de servicios en 2 tablas es muy problemático ya que la tabla que tendría realmente datos sería la de personas jurídicas pero esta representa un porcentaje muy pequeño de los servicios, por lo que en realidad no vale la pena separar las tablas, y nos podemos quedar sólo con los atributos que si tienen valores para personas naturales."
   ]
  },
  {
   "cell_type": "code",
   "execution_count": 183,
   "metadata": {},
   "outputs": [],
   "source": [
    "servicios = servicios[servicios_naturales.columns].drop(columns=['NRO_LINEA'])"
   ]
  },
  {
   "cell_type": "code",
   "execution_count": 184,
   "metadata": {},
   "outputs": [
    {
     "data": {
      "text/html": [
       "<div>\n",
       "<style scoped>\n",
       "    .dataframe tbody tr th:only-of-type {\n",
       "        vertical-align: middle;\n",
       "    }\n",
       "\n",
       "    .dataframe tbody tr th {\n",
       "        vertical-align: top;\n",
       "    }\n",
       "\n",
       "    .dataframe thead th {\n",
       "        text-align: right;\n",
       "    }\n",
       "</style>\n",
       "<table border=\"1\" class=\"dataframe\">\n",
       "  <thead>\n",
       "    <tr style=\"text-align: right;\">\n",
       "      <th></th>\n",
       "      <th>REGION</th>\n",
       "      <th>FOLIO</th>\n",
       "      <th>TIPO_SERVICIO</th>\n",
       "      <th>FLOTA VIGENTE</th>\n",
       "      <th>NOMBRE_RESPONSABLE</th>\n",
       "    </tr>\n",
       "  </thead>\n",
       "  <tbody>\n",
       "    <tr>\n",
       "      <th>0</th>\n",
       "      <td>1</td>\n",
       "      <td>10</td>\n",
       "      <td>TAXI COLECTIVO RURAL</td>\n",
       "      <td>1</td>\n",
       "      <td>FRANCISCO R. CARLOS MAMANI</td>\n",
       "    </tr>\n",
       "    <tr>\n",
       "      <th>1</th>\n",
       "      <td>1</td>\n",
       "      <td>4608</td>\n",
       "      <td>TAXI COLECTIVO RURAL</td>\n",
       "      <td>1</td>\n",
       "      <td>JORGE ANDRES SOTO LARA</td>\n",
       "    </tr>\n",
       "    <tr>\n",
       "      <th>2</th>\n",
       "      <td>1</td>\n",
       "      <td>27</td>\n",
       "      <td>TAXI COLECTIVO RURAL</td>\n",
       "      <td>1</td>\n",
       "      <td>RENE RUPERTO OYANADEL RIVEROS</td>\n",
       "    </tr>\n",
       "  </tbody>\n",
       "</table>\n",
       "</div>"
      ],
      "text/plain": [
       "   REGION  FOLIO         TIPO_SERVICIO  FLOTA VIGENTE   \n",
       "0       1     10  TAXI COLECTIVO RURAL              1  \\\n",
       "1       1   4608  TAXI COLECTIVO RURAL              1   \n",
       "2       1     27  TAXI COLECTIVO RURAL              1   \n",
       "\n",
       "              NOMBRE_RESPONSABLE  \n",
       "0     FRANCISCO R. CARLOS MAMANI  \n",
       "1         JORGE ANDRES SOTO LARA  \n",
       "2  RENE RUPERTO OYANADEL RIVEROS  "
      ]
     },
     "execution_count": 184,
     "metadata": {},
     "output_type": "execute_result"
    }
   ],
   "source": [
    "servicios.head(3)"
   ]
  },
  {
   "cell_type": "code",
   "execution_count": 189,
   "metadata": {},
   "outputs": [
    {
     "data": {
      "text/plain": [
       "True"
      ]
     },
     "execution_count": 189,
     "metadata": {},
     "output_type": "execute_result"
    }
   ],
   "source": [
    "is_candidate_key(servicios, ['FOLIO', 'REGION'])"
   ]
  },
  {
   "attachments": {},
   "cell_type": "markdown",
   "metadata": {},
   "source": [
    "Donde la PK es: {FOLIO, REGION}"
   ]
  },
  {
   "attachments": {},
   "cell_type": "markdown",
   "metadata": {},
   "source": [
    "### Represenantes Legales"
   ]
  },
  {
   "cell_type": "code",
   "execution_count": 83,
   "metadata": {},
   "outputs": [
    {
     "data": {
      "text/html": [
       "<div>\n",
       "<style scoped>\n",
       "    .dataframe tbody tr th:only-of-type {\n",
       "        vertical-align: middle;\n",
       "    }\n",
       "\n",
       "    .dataframe tbody tr th {\n",
       "        vertical-align: top;\n",
       "    }\n",
       "\n",
       "    .dataframe thead th {\n",
       "        text-align: right;\n",
       "    }\n",
       "</style>\n",
       "<table border=\"1\" class=\"dataframe\">\n",
       "  <thead>\n",
       "    <tr style=\"text-align: right;\">\n",
       "      <th></th>\n",
       "      <th>REGION</th>\n",
       "      <th>FOLIO</th>\n",
       "      <th>TIPO_SERVICIO</th>\n",
       "      <th>NOMBRE_REPLEGAL</th>\n",
       "    </tr>\n",
       "  </thead>\n",
       "  <tbody>\n",
       "    <tr>\n",
       "      <th>0</th>\n",
       "      <td>3</td>\n",
       "      <td>6000</td>\n",
       "      <td>TAXI COLECTIVO RURAL</td>\n",
       "      <td>MIGUEL ANGEL GUAJARDO SANTANA</td>\n",
       "    </tr>\n",
       "    <tr>\n",
       "      <th>1</th>\n",
       "      <td>3</td>\n",
       "      <td>6003</td>\n",
       "      <td>TAXI COLECTIVO RURAL</td>\n",
       "      <td>JORGE EDUARDO CAMPILLAY HURTADO</td>\n",
       "    </tr>\n",
       "    <tr>\n",
       "      <th>2</th>\n",
       "      <td>3</td>\n",
       "      <td>6005</td>\n",
       "      <td>TAXI COLECTIVO RURAL</td>\n",
       "      <td>OMAR EDDIE MU?OZ GONZALEZ</td>\n",
       "    </tr>\n",
       "  </tbody>\n",
       "</table>\n",
       "</div>"
      ],
      "text/plain": [
       "   REGION  FOLIO         TIPO_SERVICIO                  NOMBRE_REPLEGAL\n",
       "0       3   6000  TAXI COLECTIVO RURAL    MIGUEL ANGEL GUAJARDO SANTANA\n",
       "1       3   6003  TAXI COLECTIVO RURAL  JORGE EDUARDO CAMPILLAY HURTADO\n",
       "2       3   6005  TAXI COLECTIVO RURAL        OMAR EDDIE MU?OZ GONZALEZ"
      ]
     },
     "execution_count": 83,
     "metadata": {},
     "output_type": "execute_result"
    }
   ],
   "source": [
    "rep_legales.head(3)"
   ]
  },
  {
   "cell_type": "code",
   "execution_count": 94,
   "metadata": {},
   "outputs": [
    {
     "name": "stdout",
     "output_type": "stream",
     "text": [
      "False False False False False\n",
      "Ninguna de las combinaciones de columnas es llave candidata.\n",
      "True\n"
     ]
    }
   ],
   "source": [
    "print(\n",
    "    is_candidate_key(rep_legales, ['NOMBRE_REPLEGAL']),\n",
    "    is_candidate_key(rep_legales, ['REGION']),\n",
    "    is_candidate_key(rep_legales, ['NOMBRE_REPLEGAL', 'REGION']),\n",
    "    is_candidate_key(rep_legales, ['FOLIO']),\n",
    "    is_candidate_key(rep_legales, ['FOLIO', 'REGION']),\n",
    ")\n",
    "print('Ninguna de las combinaciones de columnas es llave candidata.')\n",
    "print(is_candidate_key(rep_legales, ['FOLIO', 'NOMBRE_REPLEGAL']))"
   ]
  },
  {
   "attachments": {},
   "cell_type": "markdown",
   "metadata": {},
   "source": [
    "La combinación de {FOLIO, NOMBRE_REPLEGAL} no tiene duplicados, pero como sabemos que un folio se identifica con su número de folio y de región, entonces {FOLIO, REGION, NOMBRE_REPLEGAL} es la llave primaria de la tabla de representantes legales."
   ]
  },
  {
   "attachments": {},
   "cell_type": "markdown",
   "metadata": {},
   "source": [
    "Así sería, sin embargo, dado que ya no nos interesan los datos personales de los representantes, podemos deshacernos de la tabla completamente."
   ]
  },
  {
   "attachments": {},
   "cell_type": "markdown",
   "metadata": {},
   "source": [
    "### Vehiculos"
   ]
  },
  {
   "cell_type": "code",
   "execution_count": 116,
   "metadata": {},
   "outputs": [
    {
     "data": {
      "text/plain": [
       "False"
      ]
     },
     "execution_count": 116,
     "metadata": {},
     "output_type": "execute_result"
    }
   ],
   "source": [
    "vehiculos.shape[0] == vehiculos.drop_duplicates().shape[0]"
   ]
  },
  {
   "attachments": {},
   "cell_type": "markdown",
   "metadata": {},
   "source": [
    "La tabla de vehiculos trae valores duplicados así que los eliminamos."
   ]
  },
  {
   "cell_type": "code",
   "execution_count": 117,
   "metadata": {},
   "outputs": [
    {
     "name": "stdout",
     "output_type": "stream",
     "text": [
      "Cantidad de registros duplicados: 20\n"
     ]
    }
   ],
   "source": [
    "init_n = vehiculos.shape[0]\n",
    "vehiculos = vehiculos.drop_duplicates()\n",
    "print(f'Cantidad de registros duplicados: {init_n - vehiculos.shape[0]}')"
   ]
  },
  {
   "cell_type": "code",
   "execution_count": 119,
   "metadata": {},
   "outputs": [
    {
     "data": {
      "text/plain": [
       "True"
      ]
     },
     "execution_count": 119,
     "metadata": {},
     "output_type": "execute_result"
    }
   ],
   "source": [
    "is_candidate_key(vehiculos, ['PPU'])"
   ]
  },
  {
   "cell_type": "code",
   "execution_count": 120,
   "metadata": {},
   "outputs": [
    {
     "data": {
      "text/plain": [
       "False"
      ]
     },
     "execution_count": 120,
     "metadata": {},
     "output_type": "execute_result"
    }
   ],
   "source": [
    "is_candidate_key(vehiculos, ['FOLIO', 'REGION'])"
   ]
  },
  {
   "attachments": {},
   "cell_type": "markdown",
   "metadata": {},
   "source": [
    "Un vehiculo puede tener sólo un folio pero un folio puede tener varios. vehiculos. Podemos ver que su PK es {PPU}, es decir la patente del vehiculo."
   ]
  },
  {
   "attachments": {},
   "cell_type": "markdown",
   "metadata": {},
   "source": [
    "### Recorridos"
   ]
  },
  {
   "cell_type": "code",
   "execution_count": 122,
   "metadata": {},
   "outputs": [
    {
     "data": {
      "text/plain": [
       "False"
      ]
     },
     "execution_count": 122,
     "metadata": {},
     "output_type": "execute_result"
    }
   ],
   "source": [
    "is_candidate_key(recorridos, recorridos.columns)"
   ]
  },
  {
   "attachments": {},
   "cell_type": "markdown",
   "metadata": {},
   "source": [
    "Podemos ver que la tabla de recorridos tiene valores duplicados, por lo que los eliminamos."
   ]
  },
  {
   "cell_type": "code",
   "execution_count": 123,
   "metadata": {},
   "outputs": [
    {
     "name": "stdout",
     "output_type": "stream",
     "text": [
      "Cantidad de registros duplicados: 18\n"
     ]
    }
   ],
   "source": [
    "init_n = recorridos.shape[0]\n",
    "recorridos = recorridos.drop_duplicates()\n",
    "print(f'Cantidad de registros duplicados: {init_n - recorridos.shape[0]}')"
   ]
  },
  {
   "cell_type": "code",
   "execution_count": 127,
   "metadata": {},
   "outputs": [
    {
     "data": {
      "text/html": [
       "<div>\n",
       "<style scoped>\n",
       "    .dataframe tbody tr th:only-of-type {\n",
       "        vertical-align: middle;\n",
       "    }\n",
       "\n",
       "    .dataframe tbody tr th {\n",
       "        vertical-align: top;\n",
       "    }\n",
       "\n",
       "    .dataframe thead th {\n",
       "        text-align: right;\n",
       "    }\n",
       "</style>\n",
       "<table border=\"1\" class=\"dataframe\">\n",
       "  <thead>\n",
       "    <tr style=\"text-align: right;\">\n",
       "      <th></th>\n",
       "      <th>REGION</th>\n",
       "      <th>FOLIO</th>\n",
       "      <th>TIPO_SERVICIO</th>\n",
       "      <th>NOMBRE_RECORRIDO</th>\n",
       "      <th>TIPO_TRAZADO</th>\n",
       "      <th>NOMBRE_ORIGEN</th>\n",
       "      <th>COMUNA_ORIGEN</th>\n",
       "      <th>DOMICILIO_ORIGEN</th>\n",
       "      <th>NOMBRE_DESTINO</th>\n",
       "      <th>COMUNA_DESTINO</th>\n",
       "      <th>DOMICILIO_DESTINO</th>\n",
       "    </tr>\n",
       "  </thead>\n",
       "  <tbody>\n",
       "    <tr>\n",
       "      <th>0</th>\n",
       "      <td>1</td>\n",
       "      <td>800012</td>\n",
       "      <td>BUS INTERURBANO CORRIENTE</td>\n",
       "      <td>T</td>\n",
       "      <td>PRINCIPAL</td>\n",
       "      <td>IQUIQUE</td>\n",
       "      <td>Iquique</td>\n",
       "      <td>PEDRO PRADO 2382</td>\n",
       "      <td>ARICA</td>\n",
       "      <td>Iquique</td>\n",
       "      <td>TERMINAL RODOVIARIO DIEGO PORTALES 948 LOCAL 1</td>\n",
       "    </tr>\n",
       "    <tr>\n",
       "      <th>1</th>\n",
       "      <td>1</td>\n",
       "      <td>200002</td>\n",
       "      <td>BUS URBANO CORRIENTE</td>\n",
       "      <td>9</td>\n",
       "      <td>PRINCIPAL</td>\n",
       "      <td>TERMINAL BAJO MOLLE</td>\n",
       "      <td>Iquique</td>\n",
       "      <td>S/N</td>\n",
       "      <td>CENTRO</td>\n",
       "      <td>Iquique</td>\n",
       "      <td>S/N</td>\n",
       "    </tr>\n",
       "    <tr>\n",
       "      <th>2</th>\n",
       "      <td>1</td>\n",
       "      <td>200002</td>\n",
       "      <td>BUS URBANO CORRIENTE</td>\n",
       "      <td>94</td>\n",
       "      <td>PRINCIPAL</td>\n",
       "      <td>TERMINAL BAJO MOLLE</td>\n",
       "      <td>Iquique</td>\n",
       "      <td>S/N</td>\n",
       "      <td>CENTRO</td>\n",
       "      <td>Iquique</td>\n",
       "      <td>S/N</td>\n",
       "    </tr>\n",
       "  </tbody>\n",
       "</table>\n",
       "</div>"
      ],
      "text/plain": [
       "   REGION   FOLIO              TIPO_SERVICIO NOMBRE_RECORRIDO TIPO_TRAZADO   \n",
       "0       1  800012  BUS INTERURBANO CORRIENTE                T    PRINCIPAL  \\\n",
       "1       1  200002       BUS URBANO CORRIENTE                9    PRINCIPAL   \n",
       "2       1  200002       BUS URBANO CORRIENTE               94    PRINCIPAL   \n",
       "\n",
       "         NOMBRE_ORIGEN COMUNA_ORIGEN  DOMICILIO_ORIGEN NOMBRE_DESTINO   \n",
       "0              IQUIQUE       Iquique  PEDRO PRADO 2382          ARICA  \\\n",
       "1  TERMINAL BAJO MOLLE       Iquique               S/N         CENTRO   \n",
       "2  TERMINAL BAJO MOLLE       Iquique               S/N         CENTRO   \n",
       "\n",
       "  COMUNA_DESTINO                               DOMICILIO_DESTINO  \n",
       "0        Iquique  TERMINAL RODOVIARIO DIEGO PORTALES 948 LOCAL 1  \n",
       "1        Iquique                                             S/N  \n",
       "2        Iquique                                             S/N  "
      ]
     },
     "execution_count": 127,
     "metadata": {},
     "output_type": "execute_result"
    }
   ],
   "source": [
    "recorridos.head(3)"
   ]
  },
  {
   "attachments": {},
   "cell_type": "markdown",
   "metadata": {},
   "source": [
    "Lo primero que notamos es que la tabla trae los lugares de origen y destino en la misma tabla, cuando tendría más sentido tener una tabla de lugares y una tabla de recorridos que la relacione con lugares de origen y destino.\n",
    "\n",
    "Por lo que en realidad, quiséramos que la tabla luzca así:\n",
    "\n",
    "\n",
    "Recorrido:\n",
    "REGION | FOLIO | TIPO_SERVICIO |  NOMBRE_RECORRIDO | LUGAR_ORIGEN | LUGAR_DESTINO\n",
    "\n",
    "Lugar:\n",
    "ID_LUGAR | NOMBRE_LUGAR | COMUNA | DOMICILIO\n",
    "\n",
    "Veamos cómo construir la tabla \"Lugar\""
   ]
  },
  {
   "cell_type": "code",
   "execution_count": null,
   "metadata": {},
   "outputs": [
    {
     "name": "stdout",
     "output_type": "stream",
     "text": [
      "Cantidad de nombres de origen: 2745\n",
      "Cantidad de nombres de destino: 2671\n",
      "Cantidad de nombres de origen y destino: 936\n",
      "Cantidad de nombres de origen o destino: 4480\n"
     ]
    }
   ],
   "source": [
    "nombre_origen = set(recorridos['NOMBRE_ORIGEN'])\n",
    "nombre_destino = set(recorridos['NOMBRE_DESTINO'])\n",
    "print(f'Cantidad de nombres de origen: {len(nombre_origen)}')\n",
    "print(f'Cantidad de nombres de destino: {len(nombre_destino)}')\n",
    "print(f'Cantidad de nombres de origen y destino: {len(nombre_origen & nombre_destino)}')\n",
    "print(f'Cantidad de nombres de origen o destino: {len(nombre_origen | nombre_destino)}')"
   ]
  },
  {
   "attachments": {},
   "cell_type": "markdown",
   "metadata": {},
   "source": [
    "Del análisis anterior, podemos ver que se puede construir la tabla lugar simplemente tomando la union de los nombres, junto a sus detalles. Sin embargo, los datos parecen estar un poco sucios aquí, por lo que puede ser que haya que corregirlos un poco más y/o cruzarlos con datos externos. De todas formas, en el peor de los casos, basta quedarse sólo con el nombre de la comuna ya que debería ser información suficiente para la aplicación.\n",
    "\n",
    "En otras palabras, si se vuelve muy complicado tener el detalle del lugar, se puede olvidar por completo la tabla \"Lugares\" y en la tabla \"Recorridos\", en lugar de apuntar a un id_lugar, se puede poner en nombre de una comuna directamente."
   ]
  },
  {
   "cell_type": "code",
   "execution_count": 190,
   "metadata": {},
   "outputs": [],
   "source": [
    "nombres = nombre_origen | nombre_destino\n",
    "comunas = set(recorridos['COMUNA_ORIGEN']) | set(recorridos['COMUNA_DESTINO'])\n",
    "domicilios = set(recorridos['DOMICILIO_ORIGEN']) | set(recorridos['DOMICILIO_DESTINO'])"
   ]
  },
  {
   "attachments": {},
   "cell_type": "markdown",
   "metadata": {},
   "source": [
    "### Trazados"
   ]
  },
  {
   "cell_type": "code",
   "execution_count": 146,
   "metadata": {},
   "outputs": [
    {
     "data": {
      "text/html": [
       "<div>\n",
       "<style scoped>\n",
       "    .dataframe tbody tr th:only-of-type {\n",
       "        vertical-align: middle;\n",
       "    }\n",
       "\n",
       "    .dataframe tbody tr th {\n",
       "        vertical-align: top;\n",
       "    }\n",
       "\n",
       "    .dataframe thead th {\n",
       "        text-align: right;\n",
       "    }\n",
       "</style>\n",
       "<table border=\"1\" class=\"dataframe\">\n",
       "  <thead>\n",
       "    <tr style=\"text-align: right;\">\n",
       "      <th></th>\n",
       "      <th>REGION</th>\n",
       "      <th>FOLIO</th>\n",
       "      <th>TIPO_SERVICIO</th>\n",
       "      <th>NOMBRE_RECORRIDO</th>\n",
       "      <th>TIPO_TRAZADO</th>\n",
       "      <th>ORDEN</th>\n",
       "      <th>SENTIDO</th>\n",
       "      <th>CALLE</th>\n",
       "      <th>COMUNA</th>\n",
       "    </tr>\n",
       "  </thead>\n",
       "  <tbody>\n",
       "    <tr>\n",
       "      <th>0</th>\n",
       "      <td>1</td>\n",
       "      <td>10</td>\n",
       "      <td>TAXI COLECTIVO RURAL</td>\n",
       "      <td>T</td>\n",
       "      <td>PRINCIPAL</td>\n",
       "      <td>1</td>\n",
       "      <td>IDA</td>\n",
       "      <td>LUIS MIGUEL AMUNATEGUI</td>\n",
       "      <td>Iquique</td>\n",
       "    </tr>\n",
       "    <tr>\n",
       "      <th>1</th>\n",
       "      <td>1</td>\n",
       "      <td>10</td>\n",
       "      <td>TAXI COLECTIVO RURAL</td>\n",
       "      <td>T</td>\n",
       "      <td>PRINCIPAL</td>\n",
       "      <td>2</td>\n",
       "      <td>IDA</td>\n",
       "      <td>SARGENTO ALDEA</td>\n",
       "      <td>Iquique</td>\n",
       "    </tr>\n",
       "    <tr>\n",
       "      <th>2</th>\n",
       "      <td>1</td>\n",
       "      <td>10</td>\n",
       "      <td>TAXI COLECTIVO RURAL</td>\n",
       "      <td>T</td>\n",
       "      <td>PRINCIPAL</td>\n",
       "      <td>3</td>\n",
       "      <td>IDA</td>\n",
       "      <td>JUAN MARTINEZ</td>\n",
       "      <td>Iquique</td>\n",
       "    </tr>\n",
       "  </tbody>\n",
       "</table>\n",
       "</div>"
      ],
      "text/plain": [
       "   REGION  FOLIO         TIPO_SERVICIO NOMBRE_RECORRIDO TIPO_TRAZADO  ORDEN   \n",
       "0       1     10  TAXI COLECTIVO RURAL                T    PRINCIPAL      1  \\\n",
       "1       1     10  TAXI COLECTIVO RURAL                T    PRINCIPAL      2   \n",
       "2       1     10  TAXI COLECTIVO RURAL                T    PRINCIPAL      3   \n",
       "\n",
       "  SENTIDO                   CALLE   COMUNA  \n",
       "0     IDA  LUIS MIGUEL AMUNATEGUI  Iquique  \n",
       "1     IDA          SARGENTO ALDEA  Iquique  \n",
       "2     IDA           JUAN MARTINEZ  Iquique  "
      ]
     },
     "execution_count": 146,
     "metadata": {},
     "output_type": "execute_result"
    }
   ],
   "source": [
    "trazados.head(3)"
   ]
  },
  {
   "cell_type": "code",
   "execution_count": 171,
   "metadata": {},
   "outputs": [
    {
     "data": {
      "text/plain": [
       "True"
      ]
     },
     "execution_count": 171,
     "metadata": {},
     "output_type": "execute_result"
    }
   ],
   "source": [
    "is_candidate_key(\n",
    "    trazados,\n",
    "    [\n",
    "        'REGION',\n",
    "        'FOLIO',\n",
    "        'NOMBRE_RECORRIDO',\n",
    "        'ORDEN',\n",
    "        # 'SENTIDO',\n",
    "        # 'CALLE',\n",
    "        # 'COMUNA',\n",
    "        # 'TIPO_SERVICIO',\n",
    "        # 'TIPO_TRAZADO', # ANTES ERA UN ATRIBUTO NECESARIO\n",
    "    ]\n",
    "    )"
   ]
  },
  {
   "attachments": {},
   "cell_type": "markdown",
   "metadata": {},
   "source": [
    "Primero confirmamos que la tabla de trazados no tenía valores duplicados. Luego probamos combinaciones para ver si encontramos una llave candidata, sin embargo notamos que la llave candidata encontrada era: {FOLIO, REGION, NOMBRE_RECORRIDO, ORDEN, TIPO_TRAZADO}, lo cual tiene sentido, pero veamos cual es la distribución real de TIPO_TRAZADO."
   ]
  },
  {
   "cell_type": "code",
   "execution_count": 167,
   "metadata": {},
   "outputs": [
    {
     "data": {
      "image/png": "[encoded data removed]",
      "text/plain": [
       "<Figure size 640x480 with 1 Axes>"
      ]
     },
     "metadata": {},
     "output_type": "display_data"
    }
   ],
   "source": [
    "(\n",
    "    trazados['TIPO_TRAZADO']\n",
    "    .value_counts()\n",
    "    .plot(kind='pie', autopct='%1.1f%%')\n",
    ");"
   ]
  },
  {
   "attachments": {},
   "cell_type": "markdown",
   "metadata": {},
   "source": [
    "Vemos que se trata principalmente de \"PRINCIPAL\", representando a un 99% de los datos, por lo que para simplificar el esquema, eliminaremos esta columna dejando solo los valores \"PRINCIPAL\" y por lo tanto la llave primaria de la tabla de trazados será: {FOLIO, REGION, NOMBRE_RECORRIDO, ORDEN}."
   ]
  },
  {
   "cell_type": "code",
   "execution_count": 170,
   "metadata": {},
   "outputs": [],
   "source": [
    "trazados = (\n",
    "    trazados[trazados['TIPO_TRAZADO'] == 'PRINCIPAL']\n",
    "    .drop(columns=['TIPO_TRAZADO'])\n",
    ")"
   ]
  },
  {
   "cell_type": "code",
   "execution_count": 155,
   "metadata": {},
   "outputs": [
    {
     "data": {
      "text/plain": [
       "True"
      ]
     },
     "execution_count": 155,
     "metadata": {},
     "output_type": "execute_result"
    }
   ],
   "source": [
    "is_candidate_key(trazados, trazados.columns)"
   ]
  },
  {
   "attachments": {},
   "cell_type": "markdown",
   "metadata": {},
   "source": [
    "Confirmamos que sigue siendo llave primaria."
   ]
  }
 ],
 "metadata": {
  "kernelspec": {
   "display_name": "venv",
   "language": "python",
   "name": "python3"
  },
  "language_info": {
   "codemirror_mode": {
    "name": "ipython",
    "version": 3
   },
   "file_extension": ".py",
   "mimetype": "text/x-python",
   "name": "python",
   "nbconvert_exporter": "python",
   "pygments_lexer": "ipython3",
   "version": "3.11.1"
  },
  "orig_nbformat": 4
 },
 "nbformat": 4,
 "nbformat_minor": 2
}
